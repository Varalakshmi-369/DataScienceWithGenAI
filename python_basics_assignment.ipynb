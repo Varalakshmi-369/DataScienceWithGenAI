{
  "nbformat": 4,
  "nbformat_minor": 0,
  "metadata": {
    "colab": {
      "provenance": []
    },
    "kernelspec": {
      "name": "python3",
      "display_name": "Python 3"
    },
    "language_info": {
      "name": "python"
    }
  },
  "cells": [
    {
      "cell_type": "code",
      "execution_count": 26,
      "metadata": {
        "id": "xD1ntLMN4ska"
      },
      "outputs": [],
      "source": []
    },
    {
      "cell_type": "markdown",
      "source": [
        "**Python Basics Questions**\n"
      ],
      "metadata": {
        "id": "DUaxE1r94uLW"
      }
    },
    {
      "cell_type": "markdown",
      "source": [
        "**1. What is Python, and why is it popular?**\n",
        "```\n",
        "Python is a high level programming language that's easy to learn and use. It lets you write code that’s clear and simple, like writing instructions in English.\n",
        "\n",
        "Why it's popular:\n",
        "\n",
        "Easy to Learn: The code is simple and easy to understand.\n",
        "\n",
        "Lots of Libraries: Python has number of libraries, that save you time.\n",
        "\n",
        "Great for Beginners: Because it’s easy to understand, many people start with Python when learning to program.\n",
        "\n",
        "Big Community: A lot of people use Python, so if you get stuck, there are tons of tutorials and help available online.\n",
        "```\n",
        "\n",
        "**2. What is an interpreter in Python?**\n",
        "```\n",
        "Python is an interpreted language, meaning it runs code line-by-line instead of converting everything to machine code first.\n",
        "\n",
        "It translates the code into something the computer can understand during execution, using Python Virtual Machine (PVM).\n",
        "\n",
        "```\n",
        "\n",
        "**3. What are pre-defined keywords in Python?**\n",
        "\n",
        "```\n",
        "Keywords are special words reserved by Python for specific tasks. You can’t use them as variable names.\n",
        "\n",
        "Examples: if, else, def, class,break,...\n",
        "\n",
        "```\n",
        "\n",
        "**4. Can keywords be used as variable names?**\n",
        "```\n",
        "No, keywords can not be used as variable names. Using them will cause an error because Python needs those words for its own functions.\n",
        "```\n",
        "\n",
        "**5. What is mutability in Python?**\n",
        "\n",
        "```\n",
        "Mutability means the ability to change an object after it’s created.\n",
        "\n",
        "Mutable: Can be changed (e.g., lists, dictionaries).\n",
        "\n",
        "Immutable: Can’t be changed (e.g., tuples, strings).\n",
        "\n",
        "```\n",
        "\n",
        "**6. Why are lists mutable, but tuples are immutable?**\n",
        "\n",
        "```\n",
        "Lists (Mutable)\n",
        "Lists can be changed after they are created.\n",
        "\n",
        "Example:\n",
        "\n",
        "# Creating a list\n",
        "my_list = ['apple', 'banana', 'cherry']\n",
        "\n",
        "# Changing an item in the list\n",
        "my_list[1] = 'orange'\n",
        "\n",
        "print(my_list)  # Output: ['apple', 'orange', 'cherry']\n",
        "\n",
        "Tuples (Immutable)\n",
        "Tuples cannot be changed once they are created.\n",
        "\n",
        "Example:\n",
        "\n",
        "python\n",
        "Copy\n",
        "Edit\n",
        "# Creating a tuple\n",
        "my_tuple = ('apple', 'banana', 'cherry')\n",
        "\n",
        "# Trying to change an item in the tuple\n",
        "my_tuple[1] = 'orange'  # This will cause an error\n",
        "```\n",
        "\n",
        "**7. What is the difference between “==” and “is” operators in Python?**\n",
        "\n",
        "```\n",
        "\"==\": Checks if two values are equal.\n",
        "\n",
        "\"is\": Checks if two variables point to the same memory location.\n",
        "\n",
        "Example:\n",
        "\n",
        "a = 1\n",
        "b = 1\n",
        "print(a == b)  # True (values are the same)\n",
        "print(a is b)  # True (same memory location)\n",
        "```\n",
        "\n",
        "**8. What are logical operators in Python?**\n",
        "\n",
        "```\n",
        "Logical operators combine conditions and return True or False.\n",
        "\n",
        "Types:\n",
        "\n",
        "and: Both conditions must be true.\n",
        "\n",
        "or: At least one condition must be true.\n",
        "\n",
        "not: Reverses the condition.\n",
        "\n",
        "Example:\n",
        "\n",
        "python\n",
        "Copy\n",
        "Edit\n",
        "x = 10\n",
        "y = 20\n",
        "print(x < 15 and y > 15)  # True\n",
        "```\n",
        "\n",
        "**9.What is type casting in Python?**\n",
        "\n",
        "```\n",
        "Type casting is converting one type of data into another (like turning a string into a number).\n",
        "\n",
        "Implicit: Python does it automatically (e.g., adding an integer to a float).\n",
        "\n",
        "Explicit: You do it manually (e.g., turning a string into an integer).\n",
        "\n",
        "Example:\n",
        "\n",
        "python\n",
        "Copy\n",
        "Edit\n",
        "x = \"1\"\n",
        "y = 2\n",
        "z = int(x)  # Explicit casting\n",
        "print(y + z)  # 3\n",
        "```\n",
        "\n",
        "**10. What is the difference between implicit and explicit type casting?**\n",
        "\n",
        "```\n",
        "Implicit: Python automatically changes the type (e.g., int to float).\n",
        "Example:\n",
        "   x = 1\n",
        "   y = 2.5\n",
        "   z= x + y\n",
        "   print(z) // 3.5\n",
        "\n",
        "Explicit: You tell Python how to change the type using functions like int(), float(), etc.\n",
        "Example:\n",
        "    x= \"1\"\n",
        "    y= 2\n",
        "    z= int(x)\n",
        "    print(y + z)//3\n",
        "```\n",
        "\n",
        "**11. What is the purpose of conditional statements in Python?**\n",
        "\n",
        "```\n",
        "Conditional statements help your program make decisions. It checks if a condition is True or False, and then runs specific code based on that.\n",
        "\n",
        "Types of Conditional Statements in Python:\n",
        "if: Runs a block of code if the condition is true.\n",
        "\n",
        "elif: Checks another condition if the previous if or elif condition is false.\n",
        "\n",
        "else: Runs the code if none of the conditions are true.\n",
        "\n",
        "Example:\n",
        "\n",
        "temp = 25\n",
        "if temp > 30:\n",
        "    print(\"Hot\")\n",
        "elif temp > 20:\n",
        "    print(\"Warm\")\n",
        "else:\n",
        "    print(\"Cold\")\n",
        "\n",
        "```\n",
        "\n",
        "**12. How does the elif statement work?**\n",
        "\n",
        "```\n",
        "elif lets you check multiple conditions, one after another. If one is true, the rest are skipped.\n",
        "\n",
        "Example:\n",
        "\n",
        "temp = 25\n",
        "if temp > 30:\n",
        "    print(\"Hot\")\n",
        "elif temp > 20:\n",
        "    print(\"Warm\")\n",
        "else:\n",
        "    print(\"Cold\")\n",
        "```\n",
        "\n",
        "**13. What is the difference between for and while loops?**\n",
        "\n",
        "```\n",
        "for loop: Used when you know how many times to repeat.\n",
        "\n",
        "while loop: Used when you keep repeating until a condition is no longer true.\n",
        "\n",
        "```\n",
        "\n",
        "**14. Describe a scenario where a while loop is more suitable than a for loop?**\n",
        "\n",
        "```\n",
        "a while loop is used when you want to keep repeating something until a certain condition is true.\n",
        "\n",
        "Example: Asking for a Positive Age\n",
        "You want to ask the user for their age, but you need a positive number. Since you don’t know how many tries it will take, a while loop is perfect.\n",
        "\n",
        "Example\n",
        "age = -1  # Start with an invalid age\n",
        "\n",
        "# Keep asking until the user enters a valid age\n",
        "while age <= 0:\n",
        "    age = int(input(\"Enter your age (positive number): \"))\n",
        "    if age <= 0:\n",
        "        print(\"Invalid age! Try again.\")\n",
        "\n",
        "print(f\"Your age is: {age}\")\n",
        "\n",
        "\n",
        "The loop keeps asking until the user enters a good answer.\n",
        "\n",
        "```\n",
        "\n",
        "\n",
        "\n",
        "\n",
        "\n"
      ],
      "metadata": {
        "id": "g6RPm0DU5CkZ"
      }
    },
    {
      "cell_type": "markdown",
      "source": [
        "**Practical Questions**"
      ],
      "metadata": {
        "id": "5vP1qYCH4-75"
      }
    },
    {
      "cell_type": "code",
      "source": [
        "# 1) Write a Python program to print \"Hello, World!\"\n",
        "print(\"Hello, World!\")"
      ],
      "metadata": {
        "colab": {
          "base_uri": "https://localhost:8080/"
        },
        "id": "4B6JbBYG8qxZ",
        "outputId": "4fe3546c-23b6-4e56-f024-eb4f33016719"
      },
      "execution_count": 27,
      "outputs": [
        {
          "output_type": "stream",
          "name": "stdout",
          "text": [
            "Hello, World!\n"
          ]
        }
      ]
    },
    {
      "cell_type": "code",
      "source": [
        "# 2) Write a Python program that displays your name and age\n",
        "name = \"John\"\n",
        "age = 25\n",
        "print(\"Name:\", name)\n",
        "print(\"Age:\", age)"
      ],
      "metadata": {
        "colab": {
          "base_uri": "https://localhost:8080/"
        },
        "id": "X7_odsFuHIh2",
        "outputId": "db90d798-d842-446c-a762-86150c9a245f"
      },
      "execution_count": 28,
      "outputs": [
        {
          "output_type": "stream",
          "name": "stdout",
          "text": [
            "Name: John\n",
            "Age: 25\n"
          ]
        }
      ]
    },
    {
      "cell_type": "code",
      "source": [
        "# 3) Write code to print all the pre-defined keywords in Python using the keyword library\n",
        "import keyword\n",
        "\n",
        "# Print all Python keywords\n",
        "print(\"Python keywords:\", keyword.kwlist)"
      ],
      "metadata": {
        "colab": {
          "base_uri": "https://localhost:8080/"
        },
        "id": "D_8W1UQGHYh6",
        "outputId": "9269edbc-2fd2-477b-b843-1d7f8d15af1a"
      },
      "execution_count": 29,
      "outputs": [
        {
          "output_type": "stream",
          "name": "stdout",
          "text": [
            "Python keywords: ['False', 'None', 'True', 'and', 'as', 'assert', 'async', 'await', 'break', 'class', 'continue', 'def', 'del', 'elif', 'else', 'except', 'finally', 'for', 'from', 'global', 'if', 'import', 'in', 'is', 'lambda', 'nonlocal', 'not', 'or', 'pass', 'raise', 'return', 'try', 'while', 'with', 'yield']\n"
          ]
        }
      ]
    },
    {
      "cell_type": "code",
      "source": [
        "# 4) Write a program that checks if a given word is a Python keyword\n",
        "import keyword\n",
        "\n",
        "word = input(\"Enter a word: \")\n",
        "\n",
        "if keyword.iskeyword(word):\n",
        "    print(f\"'{word}' is a Python keyword.\")\n",
        "else:\n",
        "    print(f\"'{word}' is not a Python keyword.\")"
      ],
      "metadata": {
        "colab": {
          "base_uri": "https://localhost:8080/"
        },
        "id": "qU3kXecRHRfD",
        "outputId": "7783b6bc-605c-4d43-81be-c62015a637b2"
      },
      "execution_count": 30,
      "outputs": [
        {
          "output_type": "stream",
          "name": "stdout",
          "text": [
            "Enter a word: def\n",
            "'def' is a Python keyword.\n"
          ]
        }
      ]
    },
    {
      "cell_type": "code",
      "source": [
        " # 5) Create a list and tuple in Python, and demonstrate how attempting to change an element works differently for each\n",
        "\n",
        " # List (Mutable)\n",
        "my_list = [1, 2, 3]\n",
        "my_list[0] = 33  # Changing an element in the list\n",
        "print(\"Updated List:\", my_list)\n",
        "\n",
        "\n",
        "# Tuple (Immutable)\n",
        "my_tuple = (1, 2, 3)\n",
        "try:\n",
        "    my_tuple[0] = 33  # Trying to change an element in the tuple\n",
        "except TypeError as e:\n",
        "    print(\"Error:\", e)\n"
      ],
      "metadata": {
        "colab": {
          "base_uri": "https://localhost:8080/"
        },
        "id": "wDf_yjypHsTt",
        "outputId": "79fc74cd-6377-4c44-eb71-2d8399f0ffda"
      },
      "execution_count": 31,
      "outputs": [
        {
          "metadata": {
            "tags": null
          },
          "name": "stdout",
          "output_type": "stream",
          "text": [
            "Updated List: [33, 2, 3]\n",
            "Error: 'tuple' object does not support item assignment\n"
          ]
        }
      ]
    },
    {
      "cell_type": "code",
      "source": [
        "# 6) Write a function to demonstrate the behavior of mutable and immutable arguments\n",
        "def demo_mutability(lst, tup):\n",
        "    lst.append(100)  # List is mutable, will change\n",
        "    print(\"Modified List:\", lst)\n",
        "\n",
        "    try:\n",
        "        tup[0] = 99  # Tuple is immutable, will cause error\n",
        "    except TypeError as e:\n",
        "        print(\"Error with tuple:\", e)\n",
        "\n",
        "# Example usage\n",
        "my_list = [1, 2, 3]\n",
        "my_tuple = (1, 2, 3)\n",
        "demo_mutability(my_list, my_tuple)"
      ],
      "metadata": {
        "colab": {
          "base_uri": "https://localhost:8080/"
        },
        "id": "hMOivYEIJBB7",
        "outputId": "b16d9fbc-f334-478d-c6c9-eb69ce53bd80"
      },
      "execution_count": 32,
      "outputs": [
        {
          "metadata": {
            "tags": null
          },
          "name": "stdout",
          "output_type": "stream",
          "text": [
            "Modified List: [1, 2, 3, 100]\n",
            "Error with tuple: 'tuple' object does not support item assignment\n"
          ]
        }
      ]
    },
    {
      "cell_type": "code",
      "source": [
        "# 7)  Write a program that performs basic arithmetic operations on two user-input numbers\n",
        "\n",
        "# Taking input from user\n",
        "num1 = float(input(\"Enter the first number: \"))\n",
        "num2 = float(input(\"Enter the second number: \"))\n",
        "\n",
        "# Arithmetic operations\n",
        "print(f\"Sum: {num1 + num2}\")\n",
        "print(f\"Difference: {num1 - num2}\")\n",
        "print(f\"Product: {num1 * num2}\")\n",
        "print(f\"Quotient: {num1 / num2 if num2 != 0 else 'Undefined (Division by zero)'}\")\n"
      ],
      "metadata": {
        "colab": {
          "base_uri": "https://localhost:8080/"
        },
        "id": "-kvHR1GIJSxq",
        "outputId": "d20cdbdb-84e3-4362-c588-9b444b141889"
      },
      "execution_count": 34,
      "outputs": [
        {
          "output_type": "stream",
          "name": "stdout",
          "text": [
            "Enter the first number: 3\n",
            "Enter the second number: 4\n",
            "Sum: 7.0\n",
            "Difference: -1.0\n",
            "Product: 12.0\n",
            "Quotient: 0.75\n"
          ]
        }
      ]
    },
    {
      "cell_type": "code",
      "source": [
        "# 8)  Write a program to demonstrate the use of logical operators\n",
        "# Example using logical operators\n",
        "x = 10\n",
        "y = 20\n",
        "\n",
        "# Using 'and'\n",
        "print(x < 15 and y > 15)  # True\n",
        "\n",
        "# Using 'or'\n",
        "print(x > 15 or y > 15)  # True\n",
        "\n",
        "# Using 'not'\n",
        "print(not(x > 15))  # True\n"
      ],
      "metadata": {
        "colab": {
          "base_uri": "https://localhost:8080/"
        },
        "id": "L51dnwK2Jvpg",
        "outputId": "33a0fc98-a1fb-41ca-a355-2334ccf65761"
      },
      "execution_count": 35,
      "outputs": [
        {
          "output_type": "stream",
          "name": "stdout",
          "text": [
            "True\n",
            "True\n",
            "True\n"
          ]
        }
      ]
    },
    {
      "cell_type": "code",
      "source": [
        "# 9)  Write a Python program to convert user input from string to integer, float, and boolean types\n",
        "# User input as string\n",
        "user_input = input(\"Enter something: \")\n",
        "\n",
        "# Convert to different types\n",
        "int_value = int(user_input) if user_input.isdigit() else None\n",
        "float_value = float(user_input) if user_input.replace('.', '', 1).isdigit() else None\n",
        "bool_value = user_input.lower() in ['true', '1', 'yes']\n",
        "\n",
        "print(\"As Integer:\", int_value)\n",
        "print(\"As Float:\", float_value)\n",
        "print(\"As Boolean:\", bool_value)\n",
        "\n"
      ],
      "metadata": {
        "colab": {
          "base_uri": "https://localhost:8080/"
        },
        "id": "fyNRZXJRJ684",
        "outputId": "f3123552-89b4-4853-ae10-7c4266857feb"
      },
      "execution_count": 37,
      "outputs": [
        {
          "output_type": "stream",
          "name": "stdout",
          "text": [
            "Enter something: 345\n",
            "As Integer: 345\n",
            "As Float: 345.0\n",
            "As Boolean: False\n"
          ]
        }
      ]
    },
    {
      "cell_type": "code",
      "source": [
        "# 10) Write code to demonstrate type casting with list elements\n",
        "\n",
        "# Original list of different types\n",
        "my_list = [\"1\", \"2.5\", \"True\"]\n",
        "\n",
        "# Converting list elements to different types\n",
        "int_value = int(my_list[0])  # String to integer\n",
        "float_value = float(my_list[1])  # String to float\n",
        "bool_value = my_list[2] == \"True\"  # String to boolean\n",
        "\n",
        "print(\"Converted to Integer:\", int_value)\n",
        "print(\"Converted to Float:\", float_value)\n",
        "print(\"Converted to Boolean:\", bool_value)\n"
      ],
      "metadata": {
        "colab": {
          "base_uri": "https://localhost:8080/"
        },
        "id": "u6F12oGNKSNj",
        "outputId": "a8559dba-4e6b-45d8-bf90-ce28b08a9343"
      },
      "execution_count": 38,
      "outputs": [
        {
          "output_type": "stream",
          "name": "stdout",
          "text": [
            "Converted to Integer: 1\n",
            "Converted to Float: 2.5\n",
            "Converted to Boolean: True\n"
          ]
        }
      ]
    },
    {
      "cell_type": "code",
      "source": [
        "# 11)  Write a program that checks if a number is positive, negative, or zero\n",
        "num = float(input(\"Enter a number: \"))\n",
        "\n",
        "if num > 0:\n",
        "    print(f\"{num} is Positive\")\n",
        "elif num < 0:\n",
        "    print(f\"{num} is Negative\")\n",
        "else:\n",
        "    print(f\"{num} is Zero\")\n"
      ],
      "metadata": {
        "colab": {
          "base_uri": "https://localhost:8080/"
        },
        "id": "TcznahMqKkjW",
        "outputId": "af836a6c-b73a-474b-8058-0cd94bdc7101"
      },
      "execution_count": 39,
      "outputs": [
        {
          "output_type": "stream",
          "name": "stdout",
          "text": [
            "Enter a number: -1\n",
            "-1.0 is Negative\n"
          ]
        }
      ]
    },
    {
      "cell_type": "code",
      "source": [
        "# 12)  Write a for loop to print numbers from 1 to 10.\n",
        "for i in range(1, 11):\n",
        "    print(i)\n"
      ],
      "metadata": {
        "colab": {
          "base_uri": "https://localhost:8080/"
        },
        "id": "3iDHgNwqKvWW",
        "outputId": "3346a3a0-32ef-4572-de17-0ab4d7529ce2"
      },
      "execution_count": 40,
      "outputs": [
        {
          "output_type": "stream",
          "name": "stdout",
          "text": [
            "1\n",
            "2\n",
            "3\n",
            "4\n",
            "5\n",
            "6\n",
            "7\n",
            "8\n",
            "9\n",
            "10\n"
          ]
        }
      ]
    },
    {
      "cell_type": "code",
      "source": [
        "# 13) Write a Python program to find the sum of all even numbers between 1 and 50\n",
        "sum_even = 0\n",
        "\n",
        "# Loop through numbers from 1 to 50\n",
        "for num in range(1, 51):\n",
        "    if num % 2 == 0:  # Check if the number is even\n",
        "        sum_even += num\n",
        "\n",
        "print(f\"The sum of all even numbers between 1 and 50 is: {sum_even}\")\n",
        "\n"
      ],
      "metadata": {
        "colab": {
          "base_uri": "https://localhost:8080/"
        },
        "id": "57iY9S-dK4nz",
        "outputId": "faaa5d41-5167-42e0-eeda-879bdb12b890"
      },
      "execution_count": 41,
      "outputs": [
        {
          "output_type": "stream",
          "name": "stdout",
          "text": [
            "The sum of all even numbers between 1 and 50 is: 650\n"
          ]
        }
      ]
    },
    {
      "cell_type": "code",
      "source": [
        "# 14) Write a program to reverse a string using a while loop\n",
        "string = input(\"Enter a string: \")\n",
        "\n",
        "reversed_string = \"\"\n",
        "index = len(string) - 1  # Start from the last character\n",
        "\n",
        "while index >= 0:\n",
        "    reversed_string += string[index]\n",
        "    index -= 1\n",
        "\n",
        "print(f\"Reversed string: {reversed_string}\")\n"
      ],
      "metadata": {
        "colab": {
          "base_uri": "https://localhost:8080/"
        },
        "id": "v3EJK7yFLVj6",
        "outputId": "c07e7c2c-aa82-4758-8919-e1b76d68a395"
      },
      "execution_count": 42,
      "outputs": [
        {
          "output_type": "stream",
          "name": "stdout",
          "text": [
            "Enter a string: Hello Varalakshmi\n",
            "Reversed string: imhskalaraV olleH\n"
          ]
        }
      ]
    },
    {
      "cell_type": "code",
      "source": [
        "# 15) Write a Python program to calculate the factorial of a number provided by the user using a while loop\n",
        "\n",
        "num = int(input(\"Enter a number to find its factorial: \"))\n",
        "\n",
        "factorial = 1\n",
        "i = 1\n",
        "\n",
        "while i <= num:\n",
        "    factorial *= i\n",
        "    i += 1\n",
        "\n",
        "print(f\"The factorial of {num} is: {factorial}\")\n"
      ],
      "metadata": {
        "colab": {
          "base_uri": "https://localhost:8080/"
        },
        "id": "aqrp9PlpLZXf",
        "outputId": "0ad22a33-e9ea-402a-ac90-c86b77b72a94"
      },
      "execution_count": 43,
      "outputs": [
        {
          "output_type": "stream",
          "name": "stdout",
          "text": [
            "Enter a number to find its factorial: 5\n",
            "The factorial of 5 is: 120\n"
          ]
        }
      ]
    }
  ]
}