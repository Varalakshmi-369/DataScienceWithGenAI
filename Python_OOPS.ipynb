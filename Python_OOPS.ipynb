{
  "nbformat": 4,
  "nbformat_minor": 0,
  "metadata": {
    "colab": {
      "provenance": [],
      "collapsed_sections": [
        "2bItOWxjmnKm"
      ]
    },
    "kernelspec": {
      "name": "python3",
      "display_name": "Python 3"
    },
    "language_info": {
      "name": "python"
    }
  },
  "cells": [
    {
      "cell_type": "code",
      "execution_count": null,
      "metadata": {
        "id": "9yoforDhiLXf"
      },
      "outputs": [],
      "source": []
    },
    {
      "cell_type": "markdown",
      "source": [
        "# Theory Questions\n",
        "\n",
        "\n"
      ],
      "metadata": {
        "id": "2bItOWxjmnKm"
      }
    },
    {
      "cell_type": "markdown",
      "source": [
        "1) What is Object-Oriented Programming (OOP)?\n",
        "\n",
        "**Object-Oriented Programming** (OOP) is a method of programming where we create objects to represent real-world things. These objects contain both data (**attributes**) and behavior (**methods**).\n",
        "\n",
        "It helps us to make code:\n",
        "\n",
        "*   Easier to understand\n",
        "*   Reusable\n",
        "*   Organized\n",
        "\n",
        "**Key features of OOP:**\n",
        "\n",
        "**Class –** A blueprint for objects\n",
        "\n",
        "**Object –** An actual instance of a class\n",
        "\n",
        "**Encapsulation –** Hiding internal details\n",
        "\n",
        "**Abstraction –** Showing only essential features\n",
        "\n",
        "**Inheritance –** Reusing code from other classes\n",
        "\n",
        "**Polymorphism –** Using the same method in different ways\n",
        "\n",
        "\n",
        "2) What is a class in OOP?\n",
        "\n",
        "A class is like a blueprint for creating objects. It defines what data an object will have (attributes) and what it can do (methods).\n",
        "\n",
        "\n",
        "\n",
        "\n",
        "\n",
        "\n"
      ],
      "metadata": {
        "id": "aUxLelICmr8U"
      }
    },
    {
      "cell_type": "code",
      "source": [
        "class Car:\n",
        "    def __init__(self, brand, color):\n",
        "        self.brand = brand\n",
        "        self.color = color\n",
        "\n",
        "    def drive(self):\n",
        "        print(f\"The {self.color} {self.brand} is driving.\")\n"
      ],
      "metadata": {
        "id": "Vu8YE2jZo5f9"
      },
      "execution_count": 47,
      "outputs": []
    },
    {
      "cell_type": "markdown",
      "source": [
        "Car is the class\n",
        "\n",
        "It has attributes: brand and color\n",
        "\n",
        "It has a method: drive()"
      ],
      "metadata": {
        "id": "8U-X4Ej-pB5L"
      }
    },
    {
      "cell_type": "markdown",
      "source": [
        "3. What is an object in OOP?\n",
        "\n",
        "An object is a real example created from a class. It contains actual values for the attributes and can perform actions using the class methods.\n",
        "\n",
        "Simple Example:\n",
        "\n",
        "Using the Car class from above:"
      ],
      "metadata": {
        "id": "g2tZ2mB8pBrI"
      }
    },
    {
      "cell_type": "code",
      "source": [
        "my_car = Car(\"Toyota\", \"Red\")\n",
        "my_car.drive()\n"
      ],
      "metadata": {
        "colab": {
          "base_uri": "https://localhost:8080/"
        },
        "id": "6NmeVfCoppjN",
        "outputId": "74b14619-468e-4927-ad28-2d1e3e84cce7"
      },
      "execution_count": 48,
      "outputs": [
        {
          "output_type": "stream",
          "name": "stdout",
          "text": [
            "The Red Toyota is driving.\n"
          ]
        }
      ]
    },
    {
      "cell_type": "markdown",
      "source": [
        "**my_car** is an object of the class **Car**. It has real data: \"Toyota\" and \"Red\"."
      ],
      "metadata": {
        "id": "H4gAN-Z8pzsE"
      }
    },
    {
      "cell_type": "markdown",
      "source": [
        "4. What is the difference between Abstraction and Encapsulation?\n",
        "\n",
        "**Abstraction:**\n",
        "\n",
        "* Hides complex implementation details.\n",
        "\n",
        "* Shows only the essential features to the user.\n",
        "\n",
        "* Helps to focus on what an object does, not how it does it.\n",
        "\n",
        "* Achieved using abstract classes, interfaces, or methods in many languages.\n",
        "\n",
        "* Used to simplify code for the user."
      ],
      "metadata": {
        "id": "s7gvP8LHpzSw"
      }
    },
    {
      "cell_type": "markdown",
      "source": [],
      "metadata": {
        "id": "67QO7dq5rtkv"
      }
    },
    {
      "cell_type": "code",
      "source": [
        "# You press the button, and the TV turns on/off — you don’t know or need to know how it works internally.\n",
        "\n",
        "class Remote:\n",
        "    def press_power_button(self):\n",
        "        print(\"TV turned ON/OFF\")\n",
        "\n",
        "\n"
      ],
      "metadata": {
        "id": "-2x3rgOyrs8N"
      },
      "execution_count": 49,
      "outputs": []
    },
    {
      "cell_type": "markdown",
      "source": [
        "**Encapsulation:**\n",
        "\n",
        "* Wraps data and methods into a single unit (class).\n",
        "\n",
        "* Hides internal data from outside access.\n",
        "\n",
        "* Protects data by allowing access only through methods.\n",
        "\n",
        "* Achieved using private variables and getter/setter methods.\n",
        "\n",
        "* Used to secure the internal state of the object."
      ],
      "metadata": {
        "id": "zdlZ93k0sDFR"
      }
    },
    {
      "cell_type": "code",
      "source": [
        "# The __balance variable is hidden. You can't access it directly; you must use methods like deposit() and get_balance().\n",
        "\n",
        "class BankAccount:\n",
        "    def __init__(self):\n",
        "        self.__balance = 0  # Private variable\n",
        "\n",
        "    def deposit(self, amount):\n",
        "        if amount > 0:\n",
        "            self.__balance += amount\n",
        "\n",
        "    def get_balance(self):\n",
        "        return self.__balance\n"
      ],
      "metadata": {
        "id": "f-JVY6xlrwi5"
      },
      "execution_count": 50,
      "outputs": []
    },
    {
      "cell_type": "markdown",
      "source": [
        "**Key Difference Summary:**\n",
        "\n",
        "**Abstraction** = Focus on the interface → What the object does.\n",
        "\n",
        "**Encapsulation** = Focus on implementation hiding → How the object stores and protects data."
      ],
      "metadata": {
        "id": "5hYhBuCRsjUR"
      }
    },
    {
      "cell_type": "markdown",
      "source": [
        "5. What are dunder methods in Python?\n",
        "\n",
        "Dunder methods (short for double underscore methods) are special functions in Python that start and end with double underscores (like __ init __, __ str __, etc.). Python uses them to do built-in operations on objects.\n",
        "\n",
        "They're also called magic methods.\n",
        "Common Dunder Methods:\n",
        "\n",
        " __ init __ → Called when an object is created. It's used to initialize the object's attributes.\n",
        "\n",
        "__ str __ → Defines the string representation of the object (used when you print() the object).\n",
        "\n",
        "Other examples:\n",
        "\n",
        "__ len __ → Returns the length of the object.\n",
        "\n",
        "__ add __ → Defines behavior for the + operator."
      ],
      "metadata": {
        "id": "3YIR4ygmsixj"
      }
    },
    {
      "cell_type": "code",
      "source": [
        "class Book:\n",
        "    def __init__(self, title):\n",
        "        self.title = title\n",
        "\n",
        "    def __str__(self):\n",
        "        return f\"Book: {self.title}\"\n",
        "\n",
        "book = Book(\"Harry Potter\")\n",
        "print(book)\n"
      ],
      "metadata": {
        "colab": {
          "base_uri": "https://localhost:8080/"
        },
        "id": "0Vipsj13tJGd",
        "outputId": "0b270c1f-2e75-476e-a2a8-8d336dcb5097"
      },
      "execution_count": 51,
      "outputs": [
        {
          "output_type": "stream",
          "name": "stdout",
          "text": [
            "Book: Harry Potter\n"
          ]
        }
      ]
    },
    {
      "cell_type": "code",
      "source": [],
      "metadata": {
        "id": "ycqE8NZfuVBC"
      },
      "execution_count": 51,
      "outputs": []
    },
    {
      "cell_type": "markdown",
      "source": [
        "6. Explain the concept of inheritance in OOPH?\n",
        "\n",
        "**Inheritance** is a key feature of Object-Oriented Programming (OOP) that allows a class to inherit properties (attributes) and behaviors (methods) from another class.\n",
        "\n",
        "* It promotes code reuse and modularity.\n",
        "\n",
        "* It helps create a parent-child relationship between classes.\n",
        "\n",
        "* The class that inherits is called the child class (or derived class).\n",
        "\n",
        "* The class being inherited from is the parent class (or base class).\n",
        "\n",
        "**Why use inheritance?**\n",
        "\n",
        "* To reuse code instead of rewriting it.\n",
        "\n",
        "* To make your code organized and hierarchical.\n",
        "\n",
        "* To implement the \"is-a\" relationship (e.g., A Dog is a Animal)."
      ],
      "metadata": {
        "id": "dlHOwzMaufUe"
      }
    },
    {
      "cell_type": "code",
      "source": [
        "# Parent class\n",
        "class Animal:\n",
        "    def __init__(self, name):\n",
        "        self.name = name\n",
        "\n",
        "    def speak(self):\n",
        "        print(f\"{self.name} makes a sound.\")\n",
        "\n",
        "# Child class\n",
        "class Dog(Animal):\n",
        "    def speak(self):\n",
        "        print(f\"{self.name} barks.\")\n",
        "\n",
        "# Create an object of Dog\n",
        "my_dog = Dog(\"Buddy\")\n",
        "my_dog.speak()\n"
      ],
      "metadata": {
        "colab": {
          "base_uri": "https://localhost:8080/"
        },
        "id": "7iPb3w2wvQZR",
        "outputId": "290416d8-8b3b-49fc-bcb8-9277cd57692a"
      },
      "execution_count": 52,
      "outputs": [
        {
          "output_type": "stream",
          "name": "stdout",
          "text": [
            "Buddy barks.\n"
          ]
        }
      ]
    },
    {
      "cell_type": "markdown",
      "source": [
        "Explanation:\n",
        "\n",
        "Animal is the parent class.\n",
        "\n",
        "Dog is the child class that inherits from Animal.\n",
        "\n",
        "Dog overrides the speak() method to provide its own behavior."
      ],
      "metadata": {
        "id": "JZyirPXqufGM"
      }
    },
    {
      "cell_type": "markdown",
      "source": [
        "7. What is polymorphism in OOP?\n",
        "\n",
        "**Polymorphism** means \"many forms\". In OOP, it allows different classes to be treated as instances of the same class through a common interface. It enables methods with the same name to behave differently based on the object that calls them.\n",
        "\n"
      ],
      "metadata": {
        "id": "4BlrB-LNlk10"
      }
    },
    {
      "cell_type": "code",
      "source": [
        "class Dog:\n",
        "    def speak(self):\n",
        "        return \"Woof!\"\n",
        "\n",
        "class Cat:\n",
        "    def speak(self):\n",
        "        return \"Meow!\"\n",
        "\n",
        "def make_sound(animal):\n",
        "    print(animal.speak())\n",
        "\n",
        "make_sound(Dog())  # Output: Woof!\n",
        "make_sound(Cat())  # Output: Meow!\n"
      ],
      "metadata": {
        "colab": {
          "base_uri": "https://localhost:8080/"
        },
        "id": "_eFDVkzunEpf",
        "outputId": "c49d031a-bfc9-421a-c6fd-d7281ee0d81b"
      },
      "execution_count": 53,
      "outputs": [
        {
          "output_type": "stream",
          "name": "stdout",
          "text": [
            "Woof!\n",
            "Meow!\n"
          ]
        }
      ]
    },
    {
      "cell_type": "markdown",
      "source": [
        "8. How is encapsulation achieved in Python?\n",
        "\n",
        "**Encapsulation** is achieved by restricting access to class attributes and methods using access modifiers:\n",
        "\n",
        "**_protected:** intended for internal use (by convention)\n",
        "\n",
        "**__private**: name mangled to prevent access from outside the class"
      ],
      "metadata": {
        "id": "Cbnk_uFSlklj"
      }
    },
    {
      "cell_type": "code",
      "source": [
        "class Person:\n",
        "    def __init__(self, name):\n",
        "        self.__name = name  # private attribute\n",
        "\n",
        "    def get_name(self):\n",
        "        return self.__name  # public method\n",
        "\n",
        "p = Person(\"Alice\")\n",
        "print(p.get_name())         # Access through method\n",
        "# print(p.__name)           # Error as -  AttributeError: 'Person' object has no attribute '__name'\n"
      ],
      "metadata": {
        "colab": {
          "base_uri": "https://localhost:8080/"
        },
        "id": "mEzm-n3AnovW",
        "outputId": "6a8bdd26-384d-4f2e-f84b-199ad1dae943"
      },
      "execution_count": 54,
      "outputs": [
        {
          "output_type": "stream",
          "name": "stdout",
          "text": [
            "Alice\n"
          ]
        }
      ]
    },
    {
      "cell_type": "markdown",
      "source": [
        "9. What is a constructor in Python?\n",
        "\n",
        "A constructor is a special method called when an object is instantiated. In Python, it's defined using the __ init __() method."
      ],
      "metadata": {
        "id": "mFY2RVsQoePB"
      }
    },
    {
      "cell_type": "code",
      "source": [
        "class Car:\n",
        "    def __init__(self, model):\n",
        "        self.model = model\n",
        "\n",
        "c = Car(\"Tesla\")\n",
        "print(c.model)  # Output: Tesla\n"
      ],
      "metadata": {
        "colab": {
          "base_uri": "https://localhost:8080/"
        },
        "id": "y1VooeLKoyce",
        "outputId": "9e4f646b-fc67-4fcc-9835-51934731f82e"
      },
      "execution_count": 55,
      "outputs": [
        {
          "output_type": "stream",
          "name": "stdout",
          "text": [
            "Tesla\n"
          ]
        }
      ]
    },
    {
      "cell_type": "markdown",
      "source": [
        "10. What are class and static methods in Python?\n",
        "\n",
        "**Class method:** Works with the class itself, not the instance. Defined with @classmethod.\n",
        "\n",
        "**Static method:** Doesn’t access class or instance data. Defined with @staticmethod."
      ],
      "metadata": {
        "id": "iJ9AEonWo6cR"
      }
    },
    {
      "cell_type": "code",
      "source": [
        "class MyClass:\n",
        "    count = 0\n",
        "\n",
        "    @classmethod\n",
        "    def increment(cls):\n",
        "        cls.count += 1\n",
        "        print(f\"Count: {cls.count}\")\n",
        "\n",
        "    @staticmethod\n",
        "    def greet():\n",
        "        print(\"Hello!\")\n",
        "\n",
        "MyClass.increment()\n",
        "MyClass.greet()\n"
      ],
      "metadata": {
        "colab": {
          "base_uri": "https://localhost:8080/"
        },
        "id": "bJBw35ynoy7Z",
        "outputId": "78bc23a6-c998-4d09-a2fd-0c98285ee913"
      },
      "execution_count": 56,
      "outputs": [
        {
          "output_type": "stream",
          "name": "stdout",
          "text": [
            "Count: 1\n",
            "Hello!\n"
          ]
        }
      ]
    },
    {
      "cell_type": "markdown",
      "source": [
        "11. What is method overloading in Python?\n",
        "\n",
        "Python **does not support method overloading** in the traditional sense (multiple methods with the same name but different parameters). Instead, **default arguments or variable-length arguments** are used."
      ],
      "metadata": {
        "id": "Q5puOvEBqtfd"
      }
    },
    {
      "cell_type": "code",
      "source": [
        "class Demo:\n",
        "    def show(self, a=None, b=None):\n",
        "        if a and b:\n",
        "            print(a + b)\n",
        "        elif a:\n",
        "            print(a)\n",
        "        else:\n",
        "            print(\"Nothing\")\n",
        "\n",
        "d = Demo()\n",
        "d.show()        # Nothing\n",
        "d.show(10)      # 10\n",
        "d.show(10, 20)  # 30\n"
      ],
      "metadata": {
        "colab": {
          "base_uri": "https://localhost:8080/"
        },
        "id": "HEZCkXHRpbKw",
        "outputId": "fe31471e-02a6-4aff-e91a-b37fcef9da49"
      },
      "execution_count": 57,
      "outputs": [
        {
          "output_type": "stream",
          "name": "stdout",
          "text": [
            "Nothing\n",
            "10\n",
            "30\n"
          ]
        }
      ]
    },
    {
      "cell_type": "markdown",
      "source": [
        "12. What is method overriding in OOP?\n",
        "\n",
        "**Method overriding** occurs when a subclass provides a specific implementation of a method already defined in its superclass."
      ],
      "metadata": {
        "id": "a1M0XK72rDC-"
      }
    },
    {
      "cell_type": "code",
      "source": [
        "class Animal:\n",
        "    def speak(self):\n",
        "        return \"Animal sound\"\n",
        "\n",
        "class Dog(Animal):\n",
        "    def speak(self):\n",
        "        return \"Woof!\"\n",
        "\n",
        "d = Dog()\n",
        "print(d.speak())  # Output: Woof!\n"
      ],
      "metadata": {
        "colab": {
          "base_uri": "https://localhost:8080/"
        },
        "id": "0QJUczUUq46t",
        "outputId": "cd3fedcb-606a-48fd-8a02-8ce064cc301e"
      },
      "execution_count": 58,
      "outputs": [
        {
          "output_type": "stream",
          "name": "stdout",
          "text": [
            "Woof!\n"
          ]
        }
      ]
    },
    {
      "cell_type": "markdown",
      "source": [
        "13. What is a property decorator in Python?\n",
        "\n",
        "\n",
        "The @property decorator turns a method into a read-only attribute. Useful for getter/setter behavior."
      ],
      "metadata": {
        "id": "zD9ihl8Brlyg"
      }
    },
    {
      "cell_type": "code",
      "source": [
        "class Circle:\n",
        "    def __init__(self, radius):\n",
        "        self._radius = radius\n",
        "\n",
        "    @property\n",
        "    def area(self):\n",
        "        return 3.14 * self._radius ** 2\n",
        "\n",
        "c = Circle(5)\n",
        "print(c.area)  # Output: 78.5\n",
        "\n"
      ],
      "metadata": {
        "colab": {
          "base_uri": "https://localhost:8080/"
        },
        "id": "31fV2Ai6rBbx",
        "outputId": "98fa57f7-f5c0-4425-fa15-3351a7cb762b"
      },
      "execution_count": 59,
      "outputs": [
        {
          "output_type": "stream",
          "name": "stdout",
          "text": [
            "78.5\n"
          ]
        }
      ]
    },
    {
      "cell_type": "markdown",
      "source": [
        "14. Why is polymorphism important in OOP?\n",
        "\n",
        "**Polymorphism** increases flexibility, extensibility, and maintainability of code. It allows different object types to be used interchangeably if they implement the same interface.\n",
        "\n",
        "**Benefits:**\n",
        "\n",
        "* Code reuse\n",
        "\n",
        "* Loose coupling\n",
        "\n",
        "* Simplifies code (e.g., one function can work with many types)"
      ],
      "metadata": {
        "id": "0lRq0uwsr6Qs"
      }
    },
    {
      "cell_type": "markdown",
      "source": [
        "15. What is an abstract class in Python?\n",
        "\n",
        "An abstract class is a class that cannot be instantiated and may contain abstract methods that must be implemented by subclasses. It is defined using the abc module."
      ],
      "metadata": {
        "id": "vvWRpgwOsMla"
      }
    },
    {
      "cell_type": "code",
      "source": [
        "from abc import ABC, abstractmethod\n",
        "\n",
        "class Animal(ABC):\n",
        "    @abstractmethod\n",
        "    def speak(self):\n",
        "        pass\n",
        "\n",
        "class Dog(Animal):\n",
        "    def speak(self):\n",
        "        return \"Woof!\"\n"
      ],
      "metadata": {
        "id": "MMRii9y7rvDM"
      },
      "execution_count": 60,
      "outputs": []
    },
    {
      "cell_type": "markdown",
      "source": [
        "16. What are the advantages of OOP?\n",
        "\n",
        "Object-Oriented Programming (OOP) offers several advantages:\n",
        "\n",
        "* **Modularity** – Code is organized into classes and objects\n",
        "\n",
        "* **Reusability** – Code can be reused through inheritance\n",
        "\n",
        "* **Encapsulation** – Data hiding helps protect object state\n",
        "\n",
        "* **Polymorphism** – Enables flexibility by using a common interface\n",
        "\n",
        "* **Maintainability** – Easier to manage and update code\n",
        "\n",
        "* **Scalability** – Ideal for larger and complex applications\n"
      ],
      "metadata": {
        "id": "N0rinC4YugqX"
      }
    },
    {
      "cell_type": "markdown",
      "source": [
        "17. What is the difference between a class variable and an instance variable?\n",
        "\n",
        "\n",
        "**Class Variable**\n",
        "\n",
        "* Defined at the class level, outside any methods.\n",
        "\n",
        "* Shared by all instances of the class.\n",
        "\n",
        "* Typically used for constants or tracking data common to all instances.\n",
        "\n"
      ],
      "metadata": {
        "id": "JThxnebru72P"
      }
    },
    {
      "cell_type": "code",
      "source": [
        "class Student:\n",
        "    school_name = \"ABC School\"  # Class variable\n",
        "\n",
        "    def __init__(self, name):\n",
        "        self.name = name  # Instance variable\n",
        "\n",
        "s1 = Student(\"Kalla\")\n",
        "s2 = Student(\"Renuka\")\n",
        "\n",
        "print(s1.school_name)  # Output: ABC School\n",
        "print(s2.school_name)  # Output: ABC School\n"
      ],
      "metadata": {
        "colab": {
          "base_uri": "https://localhost:8080/"
        },
        "id": "GcPZOypW0CC2",
        "outputId": "e8e7a9f2-484e-468b-d0b0-b25f709d4885"
      },
      "execution_count": 61,
      "outputs": [
        {
          "output_type": "stream",
          "name": "stdout",
          "text": [
            "ABC School\n",
            "ABC School\n"
          ]
        }
      ]
    },
    {
      "cell_type": "markdown",
      "source": [
        "**Instance Variable**\n",
        "\n",
        "* Defined inside the class using self, usually in the __init__() method.\n",
        "\n",
        "* Unique to each object; changes affect only that object.\n",
        "\n",
        "\n",
        "* Used to store object-specific data."
      ],
      "metadata": {
        "id": "xPU25u3t2KFM"
      }
    },
    {
      "cell_type": "code",
      "source": [
        "print(s1.name)  # Output: Kalla\n",
        "print(s2.name)  # Output: Renuka\n",
        "\n",
        "s1.name = \"Varalakshmi\"\n",
        "print(s1.name)  # Output: Varalakshmi\n",
        "print(s2.name)  # Output: Renuka\n"
      ],
      "metadata": {
        "colab": {
          "base_uri": "https://localhost:8080/"
        },
        "id": "Xli7Iq0l2Pfi",
        "outputId": "10dedef0-3b75-4aa8-dc8e-70d569e46adf"
      },
      "execution_count": 62,
      "outputs": [
        {
          "output_type": "stream",
          "name": "stdout",
          "text": [
            "Kalla\n",
            "Renuka\n",
            "Varalakshmi\n",
            "Renuka\n"
          ]
        }
      ]
    },
    {
      "cell_type": "markdown",
      "source": [
        "18. What is multiple inheritance in Python?\n",
        "\n",
        "Multiple Inheritance allows a class to inherit from more than one parent class."
      ],
      "metadata": {
        "id": "NY0aRQAQvAhM"
      }
    },
    {
      "cell_type": "code",
      "source": [
        "class A:\n",
        "    def greet(self):\n",
        "        print(\"Hello from A\")\n",
        "\n",
        "class B:\n",
        "    def greet(self):\n",
        "        print(\"Hello from B\")\n",
        "\n",
        "class C(A, B):\n",
        "    pass\n",
        "\n",
        "c = C()\n",
        "c.greet()  # Output: Hello from A (based on method resolution order - MRO)\n"
      ],
      "metadata": {
        "colab": {
          "base_uri": "https://localhost:8080/"
        },
        "id": "vPsOYbZ8vGFw",
        "outputId": "f8ac1f49-35b2-43d7-d0d9-2fc422d7eb2a"
      },
      "execution_count": 63,
      "outputs": [
        {
          "output_type": "stream",
          "name": "stdout",
          "text": [
            "Hello from A\n"
          ]
        }
      ]
    },
    {
      "cell_type": "markdown",
      "source": [
        "19. Explain the purpose of __ str __ and __ repr __ methods in Python.\n",
        "\n",
        "**__ str __:** Returns a user-friendly string representation of an object (used by print()).\n",
        "\n",
        "**__ repr __:** Returns a developer-friendly string for debugging (used in console or by repr())."
      ],
      "metadata": {
        "id": "cpysXa8LvKq0"
      }
    },
    {
      "cell_type": "code",
      "source": [
        "class Person:\n",
        "    def __init__(self, name):\n",
        "        self.name = name\n",
        "\n",
        "    def __str__(self):\n",
        "        return f\"Person named {self.name}\"\n",
        "\n",
        "    def __repr__(self):\n",
        "        return f\"Person('{self.name}')\"\n",
        "\n",
        "p = Person(\"Alice\")\n",
        "print(str(p))   # Person named Alice\n",
        "print(repr(p))  # Person('Alice')\n"
      ],
      "metadata": {
        "colab": {
          "base_uri": "https://localhost:8080/"
        },
        "id": "aHN2k1VEvgl4",
        "outputId": "89534bb0-9678-4c65-b814-df15f7190059"
      },
      "execution_count": 64,
      "outputs": [
        {
          "output_type": "stream",
          "name": "stdout",
          "text": [
            "Person named Alice\n",
            "Person('Alice')\n"
          ]
        }
      ]
    },
    {
      "cell_type": "markdown",
      "source": [
        "20. What is the significance of the super() function in Python?\n",
        "\n",
        "super() is used to call a method from the parent (super) class. It's useful in inheritance for extending or customizing behavior without rewriting the base logic."
      ],
      "metadata": {
        "id": "EYEvP1d4vk9f"
      }
    },
    {
      "cell_type": "code",
      "source": [
        "class Animal:\n",
        "    def __init__(self, name):\n",
        "        self.name = name\n",
        "\n",
        "class Dog(Animal):\n",
        "    def __init__(self, name, breed):\n",
        "        super().__init__(name)\n",
        "        self.breed = breed\n"
      ],
      "metadata": {
        "id": "mra3o7FbvBSh"
      },
      "execution_count": 65,
      "outputs": []
    },
    {
      "cell_type": "markdown",
      "source": [
        "21. What is the significance of the __ del __ method in Python?\n",
        "\n",
        "The __ del __() method is the destructor in Python, called when an object is about to be destroyed (usually by garbage collection).\n",
        "\n",
        "* Use it cautiously – the exact time of execution is not guaranteed."
      ],
      "metadata": {
        "id": "xX-m-HkqvsdS"
      }
    },
    {
      "cell_type": "code",
      "source": [
        "class Demo:\n",
        "    def __del__(self):\n",
        "        print(\"Object is being destroyed\")\n"
      ],
      "metadata": {
        "id": "HlfYqeInvpfv"
      },
      "execution_count": 66,
      "outputs": []
    },
    {
      "cell_type": "markdown",
      "source": [
        "22. What is the difference between @staticmethod and @classmethod in Python?\n",
        "\n",
        "**@staticmethod**\n",
        "\n",
        "* Doesn’t take self or cls as the first parameter.\n",
        "\n",
        "* Cannot access or modify class or instance state.\n",
        "\n",
        "* Used for utility functions related to the class."
      ],
      "metadata": {
        "id": "TLM7lo6awQHi"
      }
    },
    {
      "cell_type": "code",
      "source": [
        "class MathHelper:\n",
        "    @staticmethod\n",
        "    def add(x, y):\n",
        "        return x + y\n",
        "\n",
        "print(MathHelper.add(3, 5))  # Output: 8\n"
      ],
      "metadata": {
        "colab": {
          "base_uri": "https://localhost:8080/"
        },
        "id": "1UJOjIlN2mw4",
        "outputId": "240f4544-daaf-4d59-8b0e-916db08851c0"
      },
      "execution_count": 67,
      "outputs": [
        {
          "output_type": "stream",
          "name": "stdout",
          "text": [
            "8\n"
          ]
        }
      ]
    },
    {
      "cell_type": "markdown",
      "source": [
        "**@classmethod**\n",
        "\n",
        "* Takes cls (class) as the first parameter.\n",
        "\n",
        "* Can access or modify class variables and other class methods.\n",
        "\n",
        "* Useful for factory methods or working with inheritance."
      ],
      "metadata": {
        "id": "ANeDAl5Y2rYN"
      }
    },
    {
      "cell_type": "code",
      "source": [
        "class Person:\n",
        "    species = \"Human\"\n",
        "\n",
        "    def __init__(self, name):\n",
        "        self.name = name\n",
        "\n",
        "    @classmethod\n",
        "    def from_string(cls, data):\n",
        "        name = data.split(\"-\")[0]\n",
        "        return cls(name)\n",
        "\n",
        "p = Person.from_string(\"Alice-25\")\n",
        "print(p.name)         # Output: Alice\n",
        "print(Person.species) # Output: Human\n"
      ],
      "metadata": {
        "colab": {
          "base_uri": "https://localhost:8080/"
        },
        "id": "A3otqu91wIn-",
        "outputId": "c26da115-67b0-4b32-9c6b-29072d7a4188"
      },
      "execution_count": 68,
      "outputs": [
        {
          "output_type": "stream",
          "name": "stdout",
          "text": [
            "Alice\n",
            "Human\n"
          ]
        }
      ]
    },
    {
      "cell_type": "markdown",
      "source": [
        "23. How does polymorphism work in Python with inheritance?\n",
        "\n",
        "With inheritance, **child classes can override methods of the parent class.** You can call the same method on different subclasses, and each will behave according to its implementation."
      ],
      "metadata": {
        "id": "dZRqu-ZBwhpg"
      }
    },
    {
      "cell_type": "code",
      "source": [
        "class Animal:\n",
        "    def speak(self):\n",
        "        return \"Some sound\"\n",
        "\n",
        "class Dog(Animal):\n",
        "    def speak(self):\n",
        "        return \"Woof\"\n",
        "\n",
        "class Cat(Animal):\n",
        "    def speak(self):\n",
        "        return \"Meow\"\n",
        "\n",
        "for animal in [Dog(), Cat()]:\n",
        "    print(animal.speak())  # Output: Woof, Meow\n"
      ],
      "metadata": {
        "colab": {
          "base_uri": "https://localhost:8080/"
        },
        "id": "IsXGY906wTmg",
        "outputId": "cae556fc-95e5-4b50-eeeb-8fe3ee0affe3"
      },
      "execution_count": 69,
      "outputs": [
        {
          "output_type": "stream",
          "name": "stdout",
          "text": [
            "Woof\n",
            "Meow\n"
          ]
        }
      ]
    },
    {
      "cell_type": "markdown",
      "source": [
        "24. What is method chaining in Python OOP?\n",
        "\n",
        "Method chaining is when multiple methods are called on the same object in a single line. Each method must return self (the object)."
      ],
      "metadata": {
        "id": "TyPrz2wCw1jm"
      }
    },
    {
      "cell_type": "code",
      "source": [
        "class Builder:\n",
        "    def __init__(self):\n",
        "        self.result = []\n",
        "\n",
        "    def add(self, item):\n",
        "        self.result.append(item)\n",
        "        return self\n",
        "\n",
        "    def build(self):\n",
        "        return self.result\n",
        "\n",
        "b = Builder().add(1).add(2).add(3).build()\n",
        "print(b)  # [1, 2, 3]\n"
      ],
      "metadata": {
        "colab": {
          "base_uri": "https://localhost:8080/"
        },
        "id": "qUWNN2xswyiG",
        "outputId": "ef210446-3366-4166-e880-99ad9ae4d1e6"
      },
      "execution_count": 70,
      "outputs": [
        {
          "output_type": "stream",
          "name": "stdout",
          "text": [
            "[1, 2, 3]\n"
          ]
        }
      ]
    },
    {
      "cell_type": "markdown",
      "source": [
        "25. What is the purpose of the __call__ method in Python?\n",
        "\n",
        "The __ call __() method allows an instance of a class to be called like a function."
      ],
      "metadata": {
        "id": "kx3p8P3GxCmn"
      }
    },
    {
      "cell_type": "code",
      "source": [
        "class Counter:\n",
        "    def __init__(self):\n",
        "        self.count = 0\n",
        "\n",
        "    def __call__(self):\n",
        "        self.count += 1\n",
        "        return self.count\n",
        "\n",
        "c = Counter()\n",
        "print(c())  # Output: 1\n",
        "print(c())  # Output: 2\n"
      ],
      "metadata": {
        "colab": {
          "base_uri": "https://localhost:8080/"
        },
        "id": "C--vp8ORw-2h",
        "outputId": "665c6f7f-1600-4cc9-d020-81917fe20401"
      },
      "execution_count": 71,
      "outputs": [
        {
          "output_type": "stream",
          "name": "stdout",
          "text": [
            "1\n",
            "2\n"
          ]
        }
      ]
    },
    {
      "cell_type": "code",
      "source": [],
      "metadata": {
        "id": "1TmfpOR9xKnr"
      },
      "execution_count": 71,
      "outputs": []
    },
    {
      "cell_type": "markdown",
      "source": [
        "# Practical Questions\n",
        "\n",
        "\n",
        "\n"
      ],
      "metadata": {
        "id": "aZSdFFGs30-g"
      }
    },
    {
      "cell_type": "code",
      "source": [
        "# 1. Create a parent class Animal with a method speak() that prints a generic message. Create a child class Dog that overrides the speak() method to print \"Bark!\".\n",
        "\n",
        "class Animal:\n",
        "    def speak(self):\n",
        "        print(\"The animal makes a sound.\")\n",
        "\n",
        "class Dog(Animal):\n",
        "    def speak(self):\n",
        "        print(\"Bark!\")\n",
        "\n",
        "# Test\n",
        "a = Animal()\n",
        "a.speak()\n",
        "\n",
        "d = Dog()\n",
        "d.speak()\n"
      ],
      "metadata": {
        "colab": {
          "base_uri": "https://localhost:8080/"
        },
        "id": "YbRMD0tY4JwT",
        "outputId": "541f6e30-88f8-405e-c832-ec4fcc14907b"
      },
      "execution_count": 72,
      "outputs": [
        {
          "output_type": "stream",
          "name": "stdout",
          "text": [
            "The animal makes a sound.\n",
            "Bark!\n"
          ]
        }
      ]
    },
    {
      "cell_type": "code",
      "source": [
        "# 2. Write a program to create an abstract class Shape with a method area(). Derive classes Circle and Rectangle from it and implement the area() method in both.\n",
        "\n",
        "from abc import ABC, abstractmethod\n",
        "import math\n",
        "\n",
        "class Shape(ABC):\n",
        "    @abstractmethod\n",
        "    def area(self):\n",
        "        pass\n",
        "\n",
        "class Circle(Shape):\n",
        "    def __init__(self, radius):\n",
        "        self.radius = radius\n",
        "\n",
        "    def area(self):\n",
        "        return math.pi * self.radius ** 2\n",
        "\n",
        "class Rectangle(Shape):\n",
        "    def __init__(self, width, height):\n",
        "        self.width = width\n",
        "        self.height = height\n",
        "\n",
        "    def area(self):\n",
        "        return self.width * self.height\n",
        "\n",
        "# Test\n",
        "circle = Circle(5)\n",
        "print(\"Circle area:\", circle.area())\n",
        "\n",
        "rectangle = Rectangle(4, 6)\n",
        "print(\"Rectangle area:\", rectangle.area())\n"
      ],
      "metadata": {
        "colab": {
          "base_uri": "https://localhost:8080/"
        },
        "id": "tkNe7st_4WvH",
        "outputId": "34f9ae99-a57a-44bc-b18f-0c0db2b2be3c"
      },
      "execution_count": 73,
      "outputs": [
        {
          "output_type": "stream",
          "name": "stdout",
          "text": [
            "Circle area: 78.53981633974483\n",
            "Rectangle area: 24\n"
          ]
        }
      ]
    },
    {
      "cell_type": "code",
      "source": [
        "# 3. Implement a multi-level inheritance scenario where a class Vehicle has an attribute type. Derive a class Car and further derive a class ElectricCar that adds a battery attribute.\n",
        "\n",
        "class Vehicle:\n",
        "    def __init__(self, type):\n",
        "        self.type = type\n",
        "\n",
        "class Car(Vehicle):\n",
        "    def __init__(self, type, brand):\n",
        "        super().__init__(type)\n",
        "        self.brand = brand\n",
        "\n",
        "class ElectricCar(Car):\n",
        "    def __init__(self, type, brand, battery):\n",
        "        super().__init__(type, brand)\n",
        "        self.battery = battery\n",
        "\n",
        "# Test\n",
        "e_car = ElectricCar(\"Car\", \"Tesla\", \"100 kWh\")\n",
        "print(f\"Type: {e_car.type}, Brand: {e_car.brand}, Battery: {e_car.battery}\")\n"
      ],
      "metadata": {
        "colab": {
          "base_uri": "https://localhost:8080/"
        },
        "id": "8AiXBbTG40Sb",
        "outputId": "914d3927-36d8-443b-97ba-ad8252107763"
      },
      "execution_count": 74,
      "outputs": [
        {
          "output_type": "stream",
          "name": "stdout",
          "text": [
            "Type: Car, Brand: Tesla, Battery: 100 kWh\n"
          ]
        }
      ]
    },
    {
      "cell_type": "code",
      "source": [
        "# 4. Demonstrate polymorphism by creating a base class Bird with a method fly(). Create two derived classes Sparrow and Penguin that override the fly() method.\n",
        "\n",
        "\n",
        "class Bird:\n",
        "    def fly(self):\n",
        "        print(\"Some birds can fly.\")\n",
        "\n",
        "class Sparrow(Bird):\n",
        "    def fly(self):\n",
        "        print(\"Sparrow flies high!\")\n",
        "\n",
        "class Penguin(Bird):\n",
        "    def fly(self):\n",
        "        print(\"Penguins can't fly.\")\n",
        "\n",
        "# Test\n",
        "for bird in [Sparrow(), Penguin()]:\n",
        "    bird.fly()\n"
      ],
      "metadata": {
        "colab": {
          "base_uri": "https://localhost:8080/"
        },
        "id": "f3tJ_zbZ5DOr",
        "outputId": "de4d73ed-0194-4bd2-dfef-2b4ef91404c7"
      },
      "execution_count": 76,
      "outputs": [
        {
          "output_type": "stream",
          "name": "stdout",
          "text": [
            "Sparrow flies high!\n",
            "Penguins can't fly.\n"
          ]
        }
      ]
    },
    {
      "cell_type": "code",
      "source": [
        "# 5. Write a program to demonstrate encapsulation by creating a class BankAccount with private attributes\n",
        "# balance and methods to deposit, withdraw, and check balance.\n",
        "\n",
        "class BankAccount:\n",
        "    def __init__(self, balance=0):\n",
        "        self.__balance = balance\n",
        "\n",
        "    def deposit(self, amount):\n",
        "        if amount > 0:\n",
        "            self.__balance += amount\n",
        "\n",
        "    def withdraw(self, amount):\n",
        "        if 0 < amount <= self.__balance:\n",
        "            self.__balance -= amount\n",
        "        else:\n",
        "            print(\"Insufficient funds!\")\n",
        "\n",
        "    def check_balance(self):\n",
        "        return self.__balance\n",
        "\n",
        "# Test\n",
        "account = BankAccount()\n",
        "account.deposit(1000)\n",
        "account.withdraw(300)\n",
        "print(\"Balance:\", account.check_balance())\n"
      ],
      "metadata": {
        "colab": {
          "base_uri": "https://localhost:8080/"
        },
        "id": "VJJjf7l25MPC",
        "outputId": "1ea2b726-af4c-4114-aa91-4e307e0395cb"
      },
      "execution_count": 77,
      "outputs": [
        {
          "output_type": "stream",
          "name": "stdout",
          "text": [
            "Balance: 700\n"
          ]
        }
      ]
    },
    {
      "cell_type": "code",
      "source": [
        "# 6. Demonstrate runtime polymorphism using a method play() in a base class Instrument. Derive classes Guitar\n",
        "# and Piano that implement their own version of play().\n",
        "\n",
        "\n",
        "class Instrument:\n",
        "    def play(self):\n",
        "        print(\"Playing some instrument.\")\n",
        "\n",
        "class Guitar(Instrument):\n",
        "    def play(self):\n",
        "        print(\"Playing the guitar.\")\n",
        "\n",
        "class Piano(Instrument):\n",
        "    def play(self):\n",
        "        print(\"Playing the piano.\")\n",
        "\n",
        "# Test\n",
        "def start_playing(instrument):\n",
        "    instrument.play()\n",
        "\n",
        "start_playing(Guitar())\n",
        "start_playing(Piano())\n"
      ],
      "metadata": {
        "colab": {
          "base_uri": "https://localhost:8080/"
        },
        "id": "omLq5MMJ5ePp",
        "outputId": "c0b46618-4495-4ccd-fc30-fb55a16d43e7"
      },
      "execution_count": 78,
      "outputs": [
        {
          "output_type": "stream",
          "name": "stdout",
          "text": [
            "Playing the guitar.\n",
            "Playing the piano.\n"
          ]
        }
      ]
    },
    {
      "cell_type": "code",
      "source": [
        "# 7. Create a class MathOperations with a class method add_numbers() to add two numbers and a static\n",
        "# method subtract_numbers() to subtract two numbers.\n",
        "\n",
        "class MathOperations:\n",
        "    @classmethod\n",
        "    def add_numbers(cls, a, b):\n",
        "        return a + b\n",
        "\n",
        "    @staticmethod\n",
        "    def subtract_numbers(a, b):\n",
        "        return a - b\n",
        "\n",
        "# Test\n",
        "print(\"Addition:\", MathOperations.add_numbers(10, 5))\n",
        "print(\"Subtraction:\", MathOperations.subtract_numbers(10, 5))\n"
      ],
      "metadata": {
        "colab": {
          "base_uri": "https://localhost:8080/"
        },
        "id": "iUMTfJqy5n_P",
        "outputId": "adadc4d6-f53d-4056-ed22-f1d88e019678"
      },
      "execution_count": 79,
      "outputs": [
        {
          "output_type": "stream",
          "name": "stdout",
          "text": [
            "Addition: 15\n",
            "Subtraction: 5\n"
          ]
        }
      ]
    },
    {
      "cell_type": "code",
      "source": [
        "# 8. Implement a class Person with a class method to count the total number of persons created.\n",
        "class Person:\n",
        "    count = 0\n",
        "\n",
        "    def __init__(self, name):\n",
        "        self.name = name\n",
        "        Person.count += 1\n",
        "\n",
        "    @classmethod\n",
        "    def total_persons(cls):\n",
        "        return cls.count\n",
        "\n",
        "# Test\n",
        "p1 = Person(\"Alice\")\n",
        "p2 = Person(\"Bob\")\n",
        "p3 = Person(\"Charlie\")\n",
        "\n",
        "print(\"Total persons created:\", Person.total_persons())\n"
      ],
      "metadata": {
        "colab": {
          "base_uri": "https://localhost:8080/"
        },
        "id": "aDb5mB3756mD",
        "outputId": "36d91aca-bb43-4e08-ef66-abb5404238c1"
      },
      "execution_count": 80,
      "outputs": [
        {
          "output_type": "stream",
          "name": "stdout",
          "text": [
            "Total persons created: 3\n"
          ]
        }
      ]
    },
    {
      "cell_type": "code",
      "source": [
        "# 9. Write a class Fraction with attributes numerator and denominator. Override the str method to display the\n",
        "# fraction as \"numerator/denominator\".\n",
        "\n",
        "class Fraction:\n",
        "    def __init__(self, numerator, denominator):\n",
        "        self.numerator = numerator\n",
        "        self.denominator = denominator\n",
        "\n",
        "    def __str__(self):\n",
        "        return f\"{self.numerator}/{self.denominator}\"\n",
        "\n",
        "# Test\n",
        "f = Fraction(3, 4)\n",
        "print(f)  # Output: 3/4\n"
      ],
      "metadata": {
        "colab": {
          "base_uri": "https://localhost:8080/"
        },
        "id": "RqUXq5bv5-Sl",
        "outputId": "2c5747f0-0f4e-439e-d2f1-73a7047a86ef"
      },
      "execution_count": 81,
      "outputs": [
        {
          "output_type": "stream",
          "name": "stdout",
          "text": [
            "3/4\n"
          ]
        }
      ]
    },
    {
      "cell_type": "code",
      "source": [
        "# 10. Demonstrate operator overloading by creating a class Vector and overriding the add method to add two vectors.\n",
        "\n",
        "class Vector:\n",
        "    def __init__(self, x, y):\n",
        "        self.x = x\n",
        "        self.y = y\n",
        "\n",
        "    def __add__(self, other):\n",
        "        return Vector(self.x + other.x, self.y + other.y)\n",
        "\n",
        "    def __str__(self):\n",
        "        return f\"({self.x}, {self.y})\"\n",
        "\n",
        "# Test\n",
        "v1 = Vector(1, 2)\n",
        "v2 = Vector(3, 4)\n",
        "v3 = v1 + v2\n",
        "print(\"Vector sum:\", v3)  # Output: (4, 6)\n"
      ],
      "metadata": {
        "colab": {
          "base_uri": "https://localhost:8080/"
        },
        "id": "1srlD1mB6M3A",
        "outputId": "c2a4ef1d-c767-4ee8-9a78-fd735ddea7fc"
      },
      "execution_count": 86,
      "outputs": [
        {
          "output_type": "stream",
          "name": "stdout",
          "text": [
            "Vector sum: (4, 6)\n"
          ]
        }
      ]
    },
    {
      "cell_type": "code",
      "source": [
        "# 11. Create a class Person with attributes name and age. Add a method greet() that prints \"Hello, my name is\n",
        "# {name} and I am {age} years old.\"\n",
        "\n",
        "class Person:\n",
        "    def __init__(self, name, age):\n",
        "        self.name = name\n",
        "        self.age = age\n",
        "\n",
        "    def greet(self):\n",
        "        print(f\"Hello, my name is {self.name} and I am {self.age} years old.\")\n",
        "\n",
        "# Test\n",
        "p = Person(\"Varalakshmi\", 26)\n",
        "p.greet()\n"
      ],
      "metadata": {
        "colab": {
          "base_uri": "https://localhost:8080/"
        },
        "id": "oWgBaX2Y6Ts2",
        "outputId": "42818bcd-de00-45a8-c6bb-4bbdd489ffe6"
      },
      "execution_count": 88,
      "outputs": [
        {
          "output_type": "stream",
          "name": "stdout",
          "text": [
            "Hello, my name is Varalakshmi and I am 26 years old.\n"
          ]
        }
      ]
    },
    {
      "cell_type": "code",
      "source": [
        "# 12. Implement a class Student with attributes name and grades. Create a method average_grade() to compute\n",
        "# the average of the grades.\n",
        "\n",
        "class Student:\n",
        "    def __init__(self, name, grades):\n",
        "        self.name = name\n",
        "        self.grades = grades  # Expecting a list of numbers\n",
        "\n",
        "    def average_grade(self):\n",
        "        if self.grades:\n",
        "            return sum(self.grades) / len(self.grades)\n",
        "        return 0\n",
        "\n",
        "# Test\n",
        "s = Student(\"Varalakshmi\", [85, 90, 78])\n",
        "print(\"Average grade:\", s.average_grade())\n"
      ],
      "metadata": {
        "colab": {
          "base_uri": "https://localhost:8080/"
        },
        "id": "HfJAaKol6V46",
        "outputId": "b426466b-adf7-42ce-cd0f-4cc88862c9fe"
      },
      "execution_count": 89,
      "outputs": [
        {
          "output_type": "stream",
          "name": "stdout",
          "text": [
            "Average grade: 84.33333333333333\n"
          ]
        }
      ]
    },
    {
      "cell_type": "code",
      "source": [
        "# 13. Create a class Rectangle with methods set_dimensions() to set the dimensions and area() to calculate the\n",
        "# area.\n",
        "\n",
        "class Rectangle:\n",
        "    def __init__(self):\n",
        "        self.width = 0\n",
        "        self.height = 0\n",
        "\n",
        "    def set_dimensions(self, width, height):\n",
        "        self.width = width\n",
        "        self.height = height\n",
        "\n",
        "    def area(self):\n",
        "        return self.width * self.height\n",
        "\n",
        "# Test\n",
        "r = Rectangle()\n",
        "r.set_dimensions(5, 10)\n",
        "print(\"Rectangle area:\", r.area())\n"
      ],
      "metadata": {
        "colab": {
          "base_uri": "https://localhost:8080/"
        },
        "id": "cTYiCCSK6ZU5",
        "outputId": "1aed81dc-f109-49f1-9c75-c00d93273e48"
      },
      "execution_count": 90,
      "outputs": [
        {
          "output_type": "stream",
          "name": "stdout",
          "text": [
            "Rectangle area: 50\n"
          ]
        }
      ]
    },
    {
      "cell_type": "code",
      "source": [
        "# 14. Create a class Employee with a method calculate_salary() that computes the salary based on hours worked\n",
        "# and hourly rate. Create a derived class Manager that adds a bonus to the salary.\n",
        "\n",
        "class Employee:\n",
        "    def __init__(self, name, hours_worked, hourly_rate):\n",
        "        self.name = name\n",
        "        self.hours_worked = hours_worked\n",
        "        self.hourly_rate = hourly_rate\n",
        "\n",
        "    def calculate_salary(self):\n",
        "        return self.hours_worked * self.hourly_rate\n",
        "\n",
        "class Manager(Employee):\n",
        "    def __init__(self, name, hours_worked, hourly_rate, bonus):\n",
        "        super().__init__(name, hours_worked, hourly_rate)\n",
        "        self.bonus = bonus\n",
        "\n",
        "    def calculate_salary(self):\n",
        "        base_salary = super().calculate_salary()\n",
        "        return base_salary + self.bonus\n",
        "\n",
        "# Test\n",
        "e = Employee(\"Renuka\", 40, 20)\n",
        "print(\"Employee Salary:\", e.calculate_salary())\n",
        "\n",
        "m = Manager(\"Vara\", 40, 30, 500)\n",
        "print(\"Manager Salary:\", m.calculate_salary())\n"
      ],
      "metadata": {
        "colab": {
          "base_uri": "https://localhost:8080/"
        },
        "id": "yGlqlafg6eff",
        "outputId": "f2cb1f2a-021d-45c5-c844-cc21eccc572a"
      },
      "execution_count": 96,
      "outputs": [
        {
          "output_type": "stream",
          "name": "stdout",
          "text": [
            "Employee Salary: 800\n",
            "Manager Salary: 1700\n"
          ]
        }
      ]
    },
    {
      "cell_type": "code",
      "source": [
        "# 15. Create a class Product with attributes name, price, and quantity. Implement a method total_price() that\n",
        "# calculates the total price of the product.\n",
        "class Product:\n",
        "    def __init__(self, name, price, quantity):\n",
        "        self.name = name\n",
        "        self.price = price\n",
        "        self.quantity = quantity\n",
        "\n",
        "    def total_price(self):\n",
        "        return self.price * self.quantity\n",
        "\n",
        "# Test\n",
        "p = Product(\"Laptop\", 1000, 3)\n",
        "print(\"Total Price:\", p.total_price())  # Output: 3000\n",
        "\n",
        "\n",
        "\n"
      ],
      "metadata": {
        "colab": {
          "base_uri": "https://localhost:8080/"
        },
        "id": "u4ks2eFz68Y6",
        "outputId": "c87f3df3-9f8d-4ed5-e702-4b688c01e636"
      },
      "execution_count": 101,
      "outputs": [
        {
          "output_type": "stream",
          "name": "stdout",
          "text": [
            "Total Price: 3000\n"
          ]
        }
      ]
    },
    {
      "cell_type": "code",
      "source": [
        "# 16. Create a class Animal with an abstract method sound(). Create two derived classes Cow and Sheep that\n",
        "# implement the sound() method.\n",
        "\n",
        "from abc import ABC, abstractmethod\n",
        "\n",
        "class Animal(ABC):\n",
        "    @abstractmethod\n",
        "    def sound(self):\n",
        "        pass\n",
        "\n",
        "class Cow(Animal):\n",
        "    def sound(self):\n",
        "        return \"Moo\"\n",
        "\n",
        "class Sheep(Animal):\n",
        "    def sound(self):\n",
        "        return \"Baa\"\n",
        "\n",
        "# Test\n",
        "cow = Cow()\n",
        "sheep = Sheep()\n",
        "print(\"Cow:\", cow.sound())      # Output: Moo\n",
        "print(\"Sheep:\", sheep.sound())  # Output: Baa\n",
        "\n",
        "\n",
        "\n"
      ],
      "metadata": {
        "colab": {
          "base_uri": "https://localhost:8080/"
        },
        "id": "dNOvwmMl7j9F",
        "outputId": "3accb67e-b83a-4e64-d442-d97a1eda5da3"
      },
      "execution_count": 102,
      "outputs": [
        {
          "output_type": "stream",
          "name": "stdout",
          "text": [
            "Cow: Moo\n",
            "Sheep: Baa\n"
          ]
        }
      ]
    },
    {
      "cell_type": "code",
      "source": [
        "# 17. Create a class Book with attributes title, author, and year_published. Add a method get_book_info() that\n",
        "# returns a formatted string with the book's details.\n",
        "\n",
        "class Book:\n",
        "    def __init__(self, title, author, year_published):\n",
        "        self.title = title\n",
        "        self.author = author\n",
        "        self.year_published = year_published\n",
        "\n",
        "    def get_book_info(self):\n",
        "        return f\"'{self.title}' by {self.author}, published in {self.year_published}\"\n",
        "\n",
        "# Test\n",
        "b = Book(\"1984\", \"George Orwell\", 1949)\n",
        "print(b.get_book_info())  # Output: '1984' by George Orwell, published in 1949\n",
        "\n"
      ],
      "metadata": {
        "colab": {
          "base_uri": "https://localhost:8080/"
        },
        "id": "omLum2nG7lUi",
        "outputId": "c37d7c59-3a95-489e-a742-b924c0b3be9e"
      },
      "execution_count": 103,
      "outputs": [
        {
          "output_type": "stream",
          "name": "stdout",
          "text": [
            "'1984' by George Orwell, published in 1949\n"
          ]
        }
      ]
    },
    {
      "cell_type": "code",
      "source": [
        "# 18. Create a class House with attributes address and price. Create a derived class Mansion that adds an\n",
        "# attribute number_of_rooms.\n",
        "\n",
        "class House:\n",
        "    def __init__(self, address, price):\n",
        "        self.address = address\n",
        "        self.price = price\n",
        "\n",
        "class Mansion(House):\n",
        "    def __init__(self, address, price, number_of_rooms):\n",
        "        super().__init__(address, price)\n",
        "        self.number_of_rooms = number_of_rooms\n",
        "\n",
        "# Test\n",
        "m = Mansion(\"123 Luxury Lane\", 5000000, 12)\n",
        "print(f\"Address: {m.address}, Price: ${m.price}, Rooms: {m.number_of_rooms}\")\n"
      ],
      "metadata": {
        "colab": {
          "base_uri": "https://localhost:8080/"
        },
        "id": "XaDcjppY7mqE",
        "outputId": "4cfbbb5f-a1ec-427d-8367-e6428eac4636"
      },
      "execution_count": 104,
      "outputs": [
        {
          "output_type": "stream",
          "name": "stdout",
          "text": [
            "Address: 123 Luxury Lane, Price: $5000000, Rooms: 12\n"
          ]
        }
      ]
    },
    {
      "cell_type": "code",
      "source": [],
      "metadata": {
        "id": "EHzwuKMx74Cc"
      },
      "execution_count": null,
      "outputs": []
    }
  ]
}