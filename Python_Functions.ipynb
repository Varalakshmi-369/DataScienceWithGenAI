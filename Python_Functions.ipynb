{
  "cells": [
    {
      "cell_type": "code",
      "execution_count": null,
      "metadata": {
        "id": "icazH1S1O4dr"
      },
      "outputs": [],
      "source": []
    },
    {
      "cell_type": "markdown",
      "metadata": {
        "id": "cKMv4BavO9_3"
      },
      "source": [
        "# Theory Question with respective examples\n"
      ]
    },
    {
      "cell_type": "code",
      "execution_count": null,
      "metadata": {
        "id": "ADx0JgRgPJnD"
      },
      "outputs": [],
      "source": []
    },
    {
      "cell_type": "markdown",
      "metadata": {
        "id": "fYA-VDuHPh9S"
      },
      "source": [
        "1) What is the difference between a function and a method in Python?\n",
        "\n",
        "**Function:** A function is a block of code that performs a specific task. It is defined using the def keyword and can be independent of any object.\n",
        "\n",
        "**Method:** A method is a function that is associated with an object and is called on that object. Methods are functions defined inside classes.\n"
      ]
    },
    {
      "cell_type": "code",
      "execution_count": null,
      "metadata": {
        "colab": {
          "base_uri": "https://localhost:8080/"
        },
        "id": "W7y64m48QKki",
        "outputId": "24f37931-ffb5-4d98-cf4c-13ae929f7c16"
      },
      "outputs": [
        {
          "name": "stdout",
          "output_type": "stream",
          "text": [
            "Hello, Alice!\n",
            "Hello!\n"
          ]
        }
      ],
      "source": [
        "# Function\n",
        "def greet(name):\n",
        "    return f\"Hello, {name}!\"\n",
        "\n",
        "print(greet(\"Alice\"))  # Function call\n",
        "\n",
        "# Method (within a class)\n",
        "class Person:\n",
        "    def greet(self):\n",
        "        return \"Hello!\"\n",
        "\n",
        "p = Person()\n",
        "print(p.greet())  # Method call\n"
      ]
    },
    {
      "cell_type": "markdown",
      "metadata": {
        "id": "qeu5yA8xQktF"
      },
      "source": [
        "2) Explain the concept of function arguments and parameters in Python.\n",
        "\n",
        "**Parameters** are the variables listed inside the parentheses in the function definition.\n",
        "\n",
        "**Arguments** are the actual values passed to the function when it is called.\n",
        "\n"
      ]
    },
    {
      "cell_type": "code",
      "execution_count": null,
      "metadata": {
        "colab": {
          "base_uri": "https://localhost:8080/"
        },
        "id": "33ZrJtBnQPd3",
        "outputId": "c6b81aed-8469-42ff-e981-c106d4a35e87"
      },
      "outputs": [
        {
          "name": "stdout",
          "output_type": "stream",
          "text": [
            "8\n"
          ]
        }
      ],
      "source": [
        "def add(a, b):  # 'a' and 'b' are parameters\n",
        "    return a + b\n",
        "\n",
        "result = add(3, 5)  # 3 and 5 are arguments\n",
        "print(result)\n"
      ]
    },
    {
      "cell_type": "markdown",
      "metadata": {
        "id": "IU11K3aKRRkX"
      },
      "source": [
        "3) What are the different ways to define and call a function in Python?\n",
        "\n",
        "In python, we can define fuction in different ways which are mentioned below:\n",
        "\n",
        "*   Standard Function Definition -- greet()\n",
        "*   Function with Parameters\n",
        "*   Function with Default Parameters\n",
        "*   Function with Variable Number of Arguments\n",
        "*   Lambda Function (Anonymous Function)\n",
        "*   Nested Functions (Function within a Function)\n",
        "*   Recursive Function (A function that calls itself)\n",
        "\n",
        "\n",
        "\n",
        "\n",
        "\n",
        "\n",
        "\n",
        "\n"
      ]
    },
    {
      "cell_type": "code",
      "execution_count": null,
      "metadata": {
        "colab": {
          "base_uri": "https://localhost:8080/"
        },
        "id": "bddz280UQvhR",
        "outputId": "c222e2e8-56bc-49ba-888b-9ade03754d88"
      },
      "outputs": [
        {
          "name": "stdout",
          "output_type": "stream",
          "text": [
            "Hello, Guest!\n",
            "Hello, Alice!\n",
            "Args: (1, 2, 3)\n",
            "Kwargs: {'a': 4, 'b': 5}\n",
            "25\n",
            "Inner function\n",
            "120\n"
          ]
        }
      ],
      "source": [
        "# standart function\n",
        "def greet():\n",
        "    print(\"Hello!\")\n",
        "\n",
        "# function with parameters\n",
        "def greet(name):\n",
        "    print(f\"Hello, {name}!\")\n",
        "\n",
        "\n",
        "# Function with Default Parameters\n",
        "def greet(name=\"Guest\"):\n",
        "    print(f\"Hello, {name}!\")\n",
        "\n",
        "# Function with Variable Number of Arguments\n",
        "def show_args(*args, **kwargs):\n",
        "    print(\"Args:\", args)\n",
        "    print(\"Kwargs:\", kwargs)\n",
        "\n",
        "# Lambda Function (Anonymous Function)\n",
        "square = lambda x: x * x\n",
        "\n",
        "# Nested Functions (Function within a Function)\n",
        "def outer():\n",
        "    def inner():\n",
        "        print(\"Inner function\")\n",
        "    inner()\n",
        "\n",
        "# Recursive Function\n",
        "def factorial(n):\n",
        "    if n == 1:\n",
        "        return 1\n",
        "    return n * factorial(n - 1)\n",
        "\n",
        "\n",
        "\n",
        "# Function calls\n",
        "\n",
        "greet()\n",
        "greet(\"Alice\")\n",
        "\n",
        "show_args(1, 2, 3, a=4, b=5)\n",
        "\n",
        "result = square(5)\n",
        "print(result)\n",
        "\n",
        "outer()\n",
        "\n",
        "result = factorial(5)\n",
        "print(result)\n",
        "\n"
      ]
    },
    {
      "cell_type": "markdown",
      "metadata": {
        "id": "iIZ-0rI5gBko"
      },
      "source": [
        "4) What is the purpose of the return statement in a Python function?\n",
        "\n",
        "The purpose of the **return** statement in a Python function is to send a **value back to the caller** of the function. When a function reaches a return statement:\n",
        "\n",
        "\n",
        "*   It immediately stops executing the function.\n",
        "*   It returns the specified value to wherever the function was called.\n",
        "\n"
      ]
    },
    {
      "cell_type": "code",
      "execution_count": null,
      "metadata": {
        "colab": {
          "base_uri": "https://localhost:8080/"
        },
        "id": "s2DwycRBSflT",
        "outputId": "7813a720-da15-4a9d-ba21-4cf55eacd585"
      },
      "outputs": [
        {
          "name": "stdout",
          "output_type": "stream",
          "text": [
            "8\n"
          ]
        }
      ],
      "source": [
        "# the return a + b sends the result (8) back to where the function was called, and it gets stored in result.\n",
        "# If no return is used, or return is used without a value, the function returns None by default.\n",
        "\n",
        "def add(a, b):\n",
        "    return a + b\n",
        "\n",
        "result = add(3, 5)\n",
        "print(result)  # Output: 8\n"
      ]
    },
    {
      "cell_type": "code",
      "execution_count": null,
      "metadata": {
        "id": "AUeloAL00V8Y"
      },
      "outputs": [],
      "source": []
    },
    {
      "cell_type": "markdown",
      "metadata": {
        "id": "6ezd6sbt0ZKT"
      },
      "source": [
        "5) What are iterators in Python and how do they differ from iterables?\n",
        "\n",
        "An **iterable** is any Python object capable of returning its members one at a time. Examples: lists, tuples, strings, etc. They implement the __iter__() method.\n",
        "\n",
        "An **iterator** is an object that represents a stream of data; it returns data one element at a time when called with next(). It implements both __iter__() and __next__() methods.\n",
        "\n",
        "**Key difference:** Iterables can be converted into iterators using the iter() function. Iterators maintain their state and can be exhausted, while iterables can be re-iterated."
      ]
    },
    {
      "cell_type": "code",
      "execution_count": null,
      "metadata": {
        "colab": {
          "base_uri": "https://localhost:8080/"
        },
        "id": "bcmxdPKuirVN",
        "outputId": "4bd9bc8a-6fb4-4ae3-a806-2cc05c5efd4a"
      },
      "outputs": [
        {
          "name": "stdout",
          "output_type": "stream",
          "text": [
            "1\n",
            "2\n",
            "3\n"
          ]
        }
      ],
      "source": [
        "# Iterable\n",
        "my_list = [1, 2, 3]\n",
        "\n",
        "# Convert iterable to iterator\n",
        "my_iter = iter(my_list)\n",
        "\n",
        "print(next(my_iter))  # Output: 1\n",
        "print(next(my_iter))  # Output: 2\n",
        "print(next(my_iter))  # Output: 3\n"
      ]
    },
    {
      "cell_type": "markdown",
      "metadata": {
        "id": "wd-L_wVD5aU9"
      },
      "source": [
        "6) Explain the concept of generators in Python and how they are defined.\n",
        "\n",
        "A generator is a **special type of iterator**, defined using a function with the **yield** keyword instead of return.\n",
        "\n",
        "Generators allow you to iterate over data lazily, meaning one item is produced at a time and not stored in memory.\n",
        "\n",
        "They're useful for large datasets or infinite sequences."
      ]
    },
    {
      "cell_type": "code",
      "execution_count": null,
      "metadata": {
        "id": "xt2cmL4b6I96"
      },
      "outputs": [],
      "source": [
        "def count_up_to(n):\n",
        "    i = 1\n",
        "    while i <= n:\n",
        "        yield i\n",
        "        i += 1\n",
        "\n",
        "gen = count_up_to(3)\n",
        "print(next(gen))  # Output: 1\n",
        "print(next(gen))  # Output: 2\n",
        "print(next(gen))  # Output: 3\n"
      ]
    },
    {
      "cell_type": "markdown",
      "metadata": {
        "id": "U6c2aLp8_oNJ"
      },
      "source": [
        "7) What are the advantages of using generators over regular functions?\n",
        "\n",
        "Memory-efficient: **bold text** Generators don’t store the entire sequence in memory.\n",
        "\n",
        "**Faster for large data:** They yield items one at a time.\n",
        "\n",
        "**State retention:** Automatically maintain the state between yields.\n",
        "\n",
        "**Convenient syntax** for producing iterators."
      ]
    },
    {
      "cell_type": "code",
      "execution_count": null,
      "metadata": {
        "colab": {
          "base_uri": "https://localhost:8080/"
        },
        "id": "Wtns5N5H_r_z",
        "outputId": "aa883d99-1b62-41bc-b955-c55a3098099d"
      },
      "outputs": [
        {
          "name": "stdout",
          "output_type": "stream",
          "text": [
            "0\n",
            "2\n",
            "4\n",
            "6\n",
            "8\n"
          ]
        }
      ],
      "source": [
        "# Generator\n",
        "def even_numbers(n):\n",
        "    for i in range(n):\n",
        "        if i % 2 == 0:\n",
        "            yield i\n",
        "\n",
        "for num in even_numbers(10):\n",
        "    print(num)\n",
        "\n",
        "\n",
        "#This is more memory-efficient than returning a full list of even numbers.\n"
      ]
    },
    {
      "cell_type": "code",
      "execution_count": null,
      "metadata": {
        "id": "FaS6bj3j_-I2"
      },
      "outputs": [],
      "source": []
    },
    {
      "cell_type": "markdown",
      "metadata": {
        "id": "b_JW_rhsAYH4"
      },
      "source": [
        "8) What is a lambda function in Python and when is it typically used?\n",
        "\n",
        "A lambda function is an anonymous, one-line function defined using the lambda keyword.\n",
        "\n",
        "It is often used for short operations, especially as arguments to higher-order functions like map(), filter(), or sorted()."
      ]
    },
    {
      "cell_type": "code",
      "execution_count": null,
      "metadata": {
        "id": "cRbLMRTDAmbn"
      },
      "outputs": [],
      "source": [
        "square = lambda x: x * x\n",
        "print(square(5))  # Output: 25\n"
      ]
    },
    {
      "cell_type": "markdown",
      "metadata": {
        "id": "llMb34BwD5Me"
      },
      "source": [
        "9) Explain the purpose and usage of the map() function in Python.\n",
        "\n",
        "The map() function applies a given function to all items in an iterable.\n",
        "\n",
        "It returns a map object (an iterator), which can be converted into a list or iterated over."
      ]
    },
    {
      "cell_type": "code",
      "execution_count": null,
      "metadata": {
        "colab": {
          "base_uri": "https://localhost:8080/"
        },
        "id": "kRZpptJhD86o",
        "outputId": "e1e69225-aa86-483b-fbec-e52a72efc7ef"
      },
      "outputs": [
        {
          "name": "stdout",
          "output_type": "stream",
          "text": [
            "[1, 4, 9, 16]\n"
          ]
        }
      ],
      "source": [
        "nums = [1, 2, 3, 4]\n",
        "squared = map(lambda x: x**2, nums)\n",
        "print(list(squared))  # Output: [1, 4, 9, 16]\n"
      ]
    },
    {
      "cell_type": "markdown",
      "metadata": {
        "id": "T32MR2B6EPmf"
      },
      "source": [
        "10) What is the difference between map(), reduce(), and filter() functions in Python?\n",
        "\n",
        "**1. map()**\n",
        "\n",
        "Applies a function to each item in an iterable.\n",
        "\n",
        "Returns a map object (iterator) containing the transformed values.\n",
        "\n",
        "Does not filter or combine values — just transforms.\n",
        "\n",
        "**2. filter()**\n",
        "\n",
        "Applies a function to each item and filters items based on condition.\n",
        "\n",
        "Function must return True or False.\n",
        "\n",
        "Returns a filter object (iterator) with only the items that passed the test.\n",
        "\n",
        "3. reduce()\n",
        "\n",
        "Applies a function cumulatively to items in an iterable.\n",
        "\n",
        "Reduces the iterable to a single value.\n",
        "\n",
        "Must be imported from functools in Python 3.\n",
        "\n"
      ]
    },
    {
      "cell_type": "code",
      "execution_count": null,
      "metadata": {
        "colab": {
          "base_uri": "https://localhost:8080/"
        },
        "id": "24TnB8O9EIJB",
        "outputId": "ad723d33-b3b0-45b4-9278-d1cfca4a639e"
      },
      "outputs": [
        {
          "name": "stdout",
          "output_type": "stream",
          "text": [
            "[1, 4, 9]\n",
            "[2, 4]\n",
            "10\n"
          ]
        }
      ],
      "source": [
        "# map\n",
        "nums = [1, 2, 3]\n",
        "squared = map(lambda x: x**2, nums)\n",
        "print(list(squared))  # [1, 4, 9]\n",
        "\n",
        "# filter\n",
        "\n",
        "nums = [1, 2, 3, 4]\n",
        "even = filter(lambda x: x % 2 == 0, nums)\n",
        "print(list(even))  # [2, 4]\n",
        "\n",
        "# reduce\n",
        "from functools import reduce\n",
        "nums = [1, 2, 3, 4]\n",
        "summed = reduce(lambda x, y: x + y, nums)\n",
        "print(summed)  # 10\n"
      ]
    },
    {
      "cell_type": "markdown",
      "metadata": {
        "id": "LdqB0CEgI6aC"
      },
      "source": [
        "11. Using pen & Paper write the internal mechanism for sum operation using  reduce function on this given\n",
        "list:[47,11,42,13];\n",
        "\n",
        "click the below to see the **internal mechanism for sum operation using  reduce function**\n",
        "\n",
        "https://docs.google.com/document/d/1KeSQDfHj7Hzlbxq7t9wiCGUsx-SRFKv578M7k_MSEzY/edit?tab=t.0\n",
        "\n",
        "or\n",
        "\n",
        "https://github.com/Varalakshmi-369/DataScienceWithGenAI/blob/main/reduceWorkFlow.jpeg\n",
        "\n"
      ]
    },
    {
      "cell_type": "code",
      "execution_count": null,
      "metadata": {
        "id": "bpG9PwvTFHND"
      },
      "outputs": [],
      "source": []
    },
    {
      "cell_type": "markdown",
      "metadata": {
        "id": "rtrNFDrEL1Ie"
      },
      "source": [
        "# Practical Questions\n",
        "\n"
      ]
    },
    {
      "cell_type": "code",
      "execution_count": null,
      "metadata": {
        "colab": {
          "base_uri": "https://localhost:8080/"
        },
        "id": "ablZZM2cL5P5",
        "outputId": "d84fa95e-83d8-4c00-a420-b449a4096267"
      },
      "outputs": [
        {
          "data": {
            "text/plain": [
              "('sum of all even numbers in the list: ', 18)"
            ]
          },
          "execution_count": 16,
          "metadata": {},
          "output_type": "execute_result"
        }
      ],
      "source": [
        "# 1. Write a Python function that takes a list of numbers as input and returns the sum of all even numbers in the list.\n",
        "\n",
        "def sum_even_numbers(numbers):\n",
        "    sum = 0\n",
        "    for num in numbers:\n",
        "        if num % 2 == 0:\n",
        "            sum += num\n",
        "    return (\"sum of all even numbers in the list: \",sum)\n",
        "\n",
        "sum_even_numbers([3,2,5,8,1,4,2,7,9,2])"
      ]
    },
    {
      "cell_type": "code",
      "execution_count": null,
      "metadata": {
        "colab": {
          "base_uri": "https://localhost:8080/"
        },
        "id": "CnS9rnzJMO31",
        "outputId": "0ed2a9cf-7173-4e99-adc1-51b5ec4cd901"
      },
      "outputs": [
        {
          "name": "stdout",
          "output_type": "stream",
          "text": [
            "Reversed string: olleh\n"
          ]
        }
      ],
      "source": [
        "# 2. Create a Python function that accepts a string and returns the reverse of that string.\n",
        "\n",
        "def reverse_string(s):\n",
        "    return s[::-1]\n",
        "\n",
        "# Example usage:\n",
        "text = \"hello\"\n",
        "print(\"Reversed string:\", reverse_string(text))  # Output: \"olleh\"\n"
      ]
    },
    {
      "cell_type": "code",
      "execution_count": null,
      "metadata": {
        "colab": {
          "base_uri": "https://localhost:8080/"
        },
        "id": "mmdasi-kNPQo",
        "outputId": "a094e704-3589-46aa-f633-94c993aed685"
      },
      "outputs": [
        {
          "name": "stdout",
          "output_type": "stream",
          "text": [
            "Squares: [1, 4, 9, 16, 25]\n"
          ]
        }
      ],
      "source": [
        "# 3. Implement a Python function that takes a list of integers and returns a new list containing the squares of each number.\n",
        "\n",
        "def square_list(numbers):\n",
        "    return [num ** 2 for num in numbers]\n",
        "\n",
        "# Example usage:\n",
        "nums = [1, 2, 3, 4,5]\n",
        "print(\"Squares:\", square_list(nums))\n"
      ]
    },
    {
      "cell_type": "code",
      "execution_count": null,
      "metadata": {
        "colab": {
          "base_uri": "https://localhost:8080/"
        },
        "id": "a7Q7Uix-Ngvk",
        "outputId": "c1c05d74-2ea3-40af-bbae-4f402d00247b"
      },
      "outputs": [
        {
          "name": "stdout",
          "output_type": "stream",
          "text": [
            "2 3 5 7 11 13 17 19 23 29 31 37 41 43 47 53 59 61 67 71 73 79 83 89 97 101 103 107 109 113 127 131 137 139 149 151 157 163 167 173 179 181 191 193 197 199 "
          ]
        }
      ],
      "source": [
        "# 4. Write a Python function that checks if a given number is prime or not from 1 to 200.\n",
        "\n",
        "\n",
        "def is_prime(n):\n",
        "    if n < 2:\n",
        "        return False\n",
        "    for i in range(2, int(n**0.5)+1):\n",
        "        if n % i == 0:\n",
        "            return False\n",
        "    return True\n",
        "\n",
        "# Check primes from 1 to 200\n",
        "for i in range(1, 201):\n",
        "    if is_prime(i):\n",
        "        print(i, end=' ')\n"
      ]
    },
    {
      "cell_type": "code",
      "execution_count": null,
      "metadata": {
        "colab": {
          "base_uri": "https://localhost:8080/"
        },
        "id": "spQgQyxBOm_M",
        "outputId": "983e3b1a-e819-411a-dbb0-1b730c0c4b80"
      },
      "outputs": [
        {
          "name": "stdout",
          "output_type": "stream",
          "text": [
            "0\n",
            "1\n",
            "1\n",
            "2\n",
            "3\n",
            "5\n",
            "8\n",
            "13\n",
            "21\n",
            "34\n"
          ]
        }
      ],
      "source": [
        "# 5. Create an iterator class in Python that generates the Fibonacci sequence up to a specified number of terms.\n",
        "\n",
        "\n",
        "class FibonacciIterator:\n",
        "    def __init__(self, num_terms):\n",
        "        # Store the number of Fibonacci terms we want to generate\n",
        "        self.num_terms = num_terms\n",
        "\n",
        "        # Initialize counters and starting values\n",
        "        self.count = 0   # Keeps track of how many terms we've generated so far\n",
        "        self.a = 0       # First number in the Fibonacci sequence\n",
        "        self.b = 1       # Second number in the Fibonacci sequence\n",
        "\n",
        "    def __iter__(self):\n",
        "        # This method makes the object an iterator\n",
        "        return self\n",
        "\n",
        "    def __next__(self):\n",
        "        # Stop the iteration when the required number of terms is reached\n",
        "        if self.count >= self.num_terms:\n",
        "            raise StopIteration\n",
        "\n",
        "        # Return the next Fibonacci number based on the count\n",
        "        if self.count == 0:\n",
        "            self.count += 1\n",
        "            return self.a  # Return 0 first\n",
        "        elif self.count == 1:\n",
        "            self.count += 1\n",
        "            return self.b  # Return 1 next\n",
        "        else:\n",
        "            # For the rest, calculate the next number by summing the previous two\n",
        "            next_value = self.a + self.b\n",
        "            self.a = self.b      # Shift the values for the next iteration\n",
        "            self.b = next_value\n",
        "            self.count += 1\n",
        "            return next_value\n",
        "\n",
        "\n",
        "\n",
        "# Create an instance of the Fibonacci iterator for 10 terms\n",
        "fib = FibonacciIterator(10)\n",
        "\n",
        "# Use a for loop to iterate through the Fibonacci numbers\n",
        "for number in fib:\n",
        "    print(number)\n",
        "\n"
      ]
    },
    {
      "cell_type": "code",
      "execution_count": null,
      "metadata": {
        "colab": {
          "base_uri": "https://localhost:8080/"
        },
        "id": "Eo1C1gnPlPBi",
        "outputId": "d58f9b82-afd2-41b3-a865-96b0e46ef17a"
      },
      "outputs": [
        {
          "name": "stdout",
          "output_type": "stream",
          "text": [
            "1\n",
            "2\n",
            "4\n",
            "8\n",
            "16\n",
            "32\n",
            "64\n",
            "128\n",
            "256\n",
            "512\n",
            "1024\n"
          ]
        }
      ],
      "source": [
        "# 6. Write a generator function in Python that yields the powers of 2 up to a given exponent.\n",
        "\n",
        "def powers_of_two(max_exponent):\n",
        "    \"\"\"\n",
        "    Generator function that yields powers of 2 from 2^0 up to 2^max_exponent.\n",
        "    \"\"\"\n",
        "    for exponent in range(max_exponent + 1):\n",
        "        yield 2 ** exponent\n",
        "\n",
        "# Get powers of 2 up to 2^10\n",
        "for value in powers_of_two(10):\n",
        "    print(value)\n"
      ]
    },
    {
      "cell_type": "code",
      "execution_count": 8,
      "metadata": {
        "colab": {
          "base_uri": "https://localhost:8080/"
        },
        "id": "yxdj15qamXcx",
        "outputId": "186e25aa-4f39-4637-a34a-d71542317e65"
      },
      "outputs": [
        {
          "name": "stdout",
          "output_type": "stream",
          "text": [
            "Line 1: Hello, world!\n",
            "Line 2: This is a test file.\n",
            "Line 3: Python is awesome.\n",
            "Line 4: Generator functions are cool.\n",
            "Line 5: End of file.\n"
          ]
        }
      ],
      "source": [
        "# 7. Implement a generator function that reads a file line by line and yields each line as a string.\n",
        "\n",
        "def read_lines(filename):\n",
        "    \"\"\"\n",
        "    Generator function that reads a file line by line\n",
        "    and yields each line as a string (with newline removed).\n",
        "    \"\"\"\n",
        "    with open(filename, 'r') as file:\n",
        "        for line in file:\n",
        "            yield line.rstrip('\\n')  # or yield line if you want to keep the newline\n",
        "\n",
        "\n",
        "\n",
        "for line in read_lines('sample.txt'):\n",
        "    print(line)\n",
        "\n"
      ]
    },
    {
      "cell_type": "code",
      "execution_count": 10,
      "metadata": {
        "colab": {
          "base_uri": "https://localhost:8080/"
        },
        "id": "n7JqToGTofUe",
        "outputId": "73ae0c3e-e144-4085-d98c-af29e6fa06c7"
      },
      "outputs": [
        {
          "name": "stdout",
          "output_type": "stream",
          "text": [
            "[('banana', 1), ('cherry', 2), ('apple', 3)]\n"
          ]
        }
      ],
      "source": [
        "# 8. Use a lambda function in Python to sort a list of tuples based on the second element of each tuple.\n",
        "\n",
        "data = [('apple', 3), ('banana', 1), ('cherry', 2)]\n",
        "\n",
        "# Sort by second element (index 1)\n",
        "sorted_data = sorted(data, key=lambda x: x[1])\n",
        "\n",
        "print(sorted_data)\n"
      ]
    },
    {
      "cell_type": "code",
      "execution_count": 11,
      "metadata": {
        "colab": {
          "base_uri": "https://localhost:8080/"
        },
        "id": "mIy-0DZar6FI",
        "outputId": "0d14c76d-e831-43d8-e94e-56740b54bfe9"
      },
      "outputs": [
        {
          "name": "stdout",
          "output_type": "stream",
          "text": [
            "[32.0, 68.0, 98.6, 212.0]\n"
          ]
        }
      ],
      "source": [
        "# 9. Write a Python program that uses `map()` to convert a list of temperatures from Celsius to Fahrenheit.\n",
        "celsius_temps = [0, 20, 37, 100]\n",
        "\n",
        "# Convert using map and lambda\n",
        "fahrenheit_temps = list(map(lambda c: (c * 9/5) + 32, celsius_temps))\n",
        "\n",
        "print(fahrenheit_temps)\n"
      ]
    },
    {
      "cell_type": "code",
      "execution_count": 13,
      "metadata": {
        "colab": {
          "base_uri": "https://localhost:8080/"
        },
        "id": "FeMcIGL6s3G8",
        "outputId": "1f526e4d-03ee-4d09-de7e-3df89faf2bd5"
      },
      "outputs": [
        {
          "name": "stdout",
          "output_type": "stream",
          "text": [
            "Original: Hello Varalakshmi\n",
            "Without vowels: Hll Vrlkshm\n"
          ]
        }
      ],
      "source": [
        "# 10. Create a Python program that uses `filter()` to remove all the vowels from a given string.\n",
        "\n",
        "def remove_vowels(input_string):\n",
        "    vowels = 'aeiouAEIOU'\n",
        "    return ''.join(filter(lambda char: char not in vowels, input_string))\n",
        "\n",
        "# Example usage\n",
        "text = \"Hello Varalakshmi\"\n",
        "result = remove_vowels(text)\n",
        "print(\"Original:\", text)\n",
        "print(\"Without vowels:\", result)\n"
      ]
    },
    {
      "cell_type": "code",
      "execution_count": 14,
      "metadata": {
        "colab": {
          "base_uri": "https://localhost:8080/"
        },
        "id": "dNnNb6aQtxxq",
        "outputId": "fe7a2c22-e4a9-4b0b-f2a6-e09a339351e7"
      },
      "outputs": [
        {
          "name": "stdout",
          "output_type": "stream",
          "text": [
            "[(34587, 163.8), (98762, 284.0), (77226, 108.85), (88112, 84.97)]\n"
          ]
        }
      ],
      "source": [
        "# 11) Imagine an accounting routine used in a book shop. It works on a list with sublists, which look like this:\n",
        "# Write a Python program, which returns a list with 2-tuples. Each tuple consists of the order number and\n",
        "# the product of the price per item and the quantity. The product should be increased by 10,- € if the value of the order is smaller than 100,00 €.\n",
        "\n",
        "# Write a Python program using lambda and map.\n",
        "\n",
        "\n",
        "# List of orders: [order_number, book_title_author, quantity, price_per_item]\n",
        "orders = [\n",
        "    [34587, \"Learning Python, Mark Lutz\", 4, 40.95],\n",
        "    [98762, \"Programming Python, Mark Lutz\", 5, 56.80],\n",
        "    [77226, \"Head First Python, Paul Barry\", 3, 32.95],\n",
        "    [88112, \"Einführung in Python3, Bernd Klein\", 3, 24.99]\n",
        "]\n",
        "\n",
        "# Use map and lambda to generate the required list\n",
        "invoice = list(map(\n",
        "    lambda order: (\n",
        "        order[0],  # order number\n",
        "        round(order[2] * order[3] + (10 if order[2] * order[3] < 100 else 0), 2)\n",
        "    ),\n",
        "    orders\n",
        "))\n",
        "\n",
        "# Output the result\n",
        "print(invoice)\n"
      ]
    },
    {
      "cell_type": "code",
      "execution_count": null,
      "metadata": {
        "id": "YkO1xWL7xWtr"
      },
      "outputs": [],
      "source": []
    }
  ],
  "metadata": {
    "colab": {
      "collapsed_sections": [
        "cKMv4BavO9_3"
      ],
      "provenance": []
    },
    "kernelspec": {
      "display_name": "Python 3",
      "name": "python3"
    },
    "language_info": {
      "name": "python"
    }
  },
  "nbformat": 4,
  "nbformat_minor": 0
}
