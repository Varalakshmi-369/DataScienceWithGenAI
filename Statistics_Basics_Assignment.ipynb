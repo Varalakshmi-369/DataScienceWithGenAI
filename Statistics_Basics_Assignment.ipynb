{
  "nbformat": 4,
  "nbformat_minor": 0,
  "metadata": {
    "colab": {
      "provenance": []
    },
    "kernelspec": {
      "name": "python3",
      "display_name": "Python 3"
    },
    "language_info": {
      "name": "python"
    }
  },
  "cells": [
    {
      "cell_type": "markdown",
      "source": [],
      "metadata": {
        "id": "N3W9ufwE6xb9"
      }
    },
    {
      "cell_type": "markdown",
      "source": [
        "# Statistics Basics Assignment\n"
      ],
      "metadata": {
        "id": "ozwMTIWp8rTF"
      }
    },
    {
      "cell_type": "markdown",
      "source": [
        "**Question 1:**\n",
        "\n",
        "What is the difference between descriptive statistics and inferential statistics? Explain with examples.\n",
        "\n",
        "**Answer:**\n",
        "\n",
        "**Descriptive Statistics:**\n",
        "Descriptive statistics are used to summarize or describe the main characteristics of a dataset. You're not drawing conclusions beyond the data at hand, you’re simply describing it.\n",
        "\n",
        "**Main Features:**\n",
        "\n",
        "\n",
        "* Central Tendency (e.g., mean, median, mode)\n",
        "\n",
        "\n",
        "* Spread/Dispersion (e.g., range, standard deviation, variance)\n",
        "\n",
        "\n",
        "* Shape (e.g., skewness, kurtosis)\n",
        "\n",
        "\n",
        "**Example** :\n",
        " Let’s say you have a dataset of students’ exam scores from a class. Descriptive statistics will help you summarize the average score (mean), find the middle score (median), or identify the most common score (mode). This gives you an overall idea of how the class performed, but it doesn’t help you generalize to other classes or predict future scores.\n",
        "\n",
        "\n",
        "**Inferential Statistics:**\n",
        "\n",
        "Inferential statistics takes the sample data you have and uses it to make generalizations or predictions about a larger population. It’s about making inferences.\n",
        "\n",
        "**Main Techniques:**\n",
        "\n",
        "\n",
        "**Hypothesis Testing**: Testing if a certain claim about the population is true.\n",
        "\n",
        "\n",
        "**Confidence Intervals**: Estimating the range in which a population parameter lies.\n",
        "\n",
        "\n",
        "**Regression and Correlation**: Predicting relationships between variables (e.g., predicting sales based on advertising spend).\n",
        "\n",
        "\n",
        "**Example:**\n",
        " If you have exam scores from a sample of 30 students in a class, inferential statistics helps you predict the scores of all students in the school. You can make a hypothesis like: “Do students in this class perform better than students in another class?” By analyzing the sample, you might infer conclusions about the larger group."
      ],
      "metadata": {
        "id": "siBXRP389AT8"
      }
    },
    {
      "cell_type": "markdown",
      "source": [
        "**Question 2:**\n",
        "\n",
        "What is sampling in statistics? Explain the differences between random and stratified sampling.\n",
        "\n",
        "**Answer:**\n",
        "\n",
        "**Sampling:**\n",
        "\n",
        "Sampling is the process of selecting a subset of individuals or data points from a larger population to analyze. In data science, this is crucial because it’s often impractical or too costly to analyze entire populations.\n",
        "\n",
        "**Types of Sampling:**\n",
        "\n",
        "**Random Sampling:**\n",
        "\n",
        "\n",
        "**Description**:\n",
        "Every individual in the population has an equal chance of being selected. This helps eliminate bias in sample selection.\n",
        "\n",
        "\n",
        "**Why it Matters:** Random sampling allows for generalizations about the population. It’s the most unbiased method.\n",
        "\n",
        "\n",
        "**Example**:\n",
        "Imagine you want to know the average height of 1000 students in a school, but you can’t measure all 1000 students. So, you randomly select 100 students to measure. If done right, the results can be generalized to the whole school."
      ],
      "metadata": {
        "id": "T0N63oOo933u"
      }
    },
    {
      "cell_type": "code",
      "source": [
        "# Code Example:\n",
        "\n",
        "import random\n",
        "population = [i for i in range(1, 101)]  # Sample population: 1 to 100\n",
        "sample = random.sample(population, 10)  # Randomly select 10 individuals\n",
        "print(\"Random Sample:\", sample)\n"
      ],
      "metadata": {
        "colab": {
          "base_uri": "https://localhost:8080/"
        },
        "id": "P4vFzUor-NmY",
        "outputId": "33118e3e-111b-4fd2-87bf-fd9cdd8013e4"
      },
      "execution_count": 2,
      "outputs": [
        {
          "output_type": "stream",
          "name": "stdout",
          "text": [
            "Random Sample: [50, 33, 43, 28, 49, 41, 62, 64, 90, 80]\n"
          ]
        }
      ]
    },
    {
      "cell_type": "markdown",
      "source": [
        "**Stratified Sampling:**\n",
        "\n",
        "\n",
        "**Description**:\n",
        "\n",
        "The population is divided into subgroups (strata) based on a shared characteristic. Then, samples are taken from each subgroup to ensure all groups are represented.\n",
        "\n",
        "\n",
        "**Why it Matters**: This method is useful when certain subgroups might have characteristics that differ from the rest of the population.\n",
        "\n",
        "\n",
        "**Example**:\n",
        "\n",
        " If you want to know the average age of people attending a concert, you could stratify the population into age groups (e.g., 18-25, 26-35, etc.) and then randomly sample from each group."
      ],
      "metadata": {
        "id": "wCJ-Lzub-Z0P"
      }
    },
    {
      "cell_type": "code",
      "source": [
        "import numpy as np\n",
        "population = np.array([25, 45, 35, 27, 60, 21, 33, 40, 29, 50])\n",
        "young = population[population <= 30]\n",
        "old = population[population > 30]\n",
        "\n",
        "# Randomly sample from both strata\n",
        "young_sample = np.random.choice(young, 3)\n",
        "old_sample = np.random.choice(old, 2)\n",
        "\n",
        "print(\"Young Sample:\", young_sample)\n",
        "print(\"Old Sample:\", old_sample)\n"
      ],
      "metadata": {
        "colab": {
          "base_uri": "https://localhost:8080/"
        },
        "id": "moc2leJS-OUp",
        "outputId": "e1029acb-2db7-4b0f-b7c7-ef4e255d6055"
      },
      "execution_count": 3,
      "outputs": [
        {
          "output_type": "stream",
          "name": "stdout",
          "text": [
            "Young Sample: [29 25 27]\n",
            "Old Sample: [40 40]\n"
          ]
        }
      ]
    },
    {
      "cell_type": "markdown",
      "source": [
        "**Question 3:**\n",
        "\n",
        "Define mean, median, and mode. Explain why these measures of central tendency are important.\n",
        "\n",
        "\n",
        "**Answer:**\n",
        "\n",
        "These measures describe the central or typical value in a dataset. They help you understand the general trend or behavior of your data.\n",
        "\n",
        "**Mean (Average):**\n",
        "\n",
        "The mean is the sum of all data points divided by the number of data points. It’s the most commonly used measure in statistics.\n",
        "\n",
        " **Example:**\n",
        "\n",
        " For the data [1, 2, 3, 4, 5], the mean is the sum of all values (15) divided by the number of values (5), which equals 3."
      ],
      "metadata": {
        "id": "2tKuIuM3-wqY"
      }
    },
    {
      "cell_type": "code",
      "source": [
        "\n",
        "import statistics\n",
        "data = [1, 2, 3, 4, 5]\n",
        "mean_value = statistics.mean(data)\n",
        "print(f\"Mean: {mean_value}\")\n"
      ],
      "metadata": {
        "colab": {
          "base_uri": "https://localhost:8080/"
        },
        "id": "W5MuyeWT-oHy",
        "outputId": "e227b273-1ca6-4b38-958f-1331ad1027e0"
      },
      "execution_count": 5,
      "outputs": [
        {
          "output_type": "stream",
          "name": "stdout",
          "text": [
            "Mean: 3\n"
          ]
        }
      ]
    },
    {
      "cell_type": "markdown",
      "source": [
        "**Median:**\n",
        "\n",
        "The median is the middle value when the data is sorted. It’s particularly useful when your data has outliers (extremely high or low values) because the median is not affected by outliers as much as the mean.\n",
        "\n",
        " **Example**:\n",
        "\n",
        " For the data [1, 2, 3, 4, 100], the median is 3, even though the mean would be skewed by the 100.\n"
      ],
      "metadata": {
        "id": "508emdS__RzA"
      }
    },
    {
      "cell_type": "code",
      "source": [
        "data = [1, 2, 3, 4, 100]\n",
        "median_value = statistics.median(data)\n",
        "print(f\"Median: {median_value}\")\n"
      ],
      "metadata": {
        "colab": {
          "base_uri": "https://localhost:8080/"
        },
        "id": "13zDAT-4_DKe",
        "outputId": "e61ebb5a-9d57-46cf-eef4-361a808bfe1d"
      },
      "execution_count": 6,
      "outputs": [
        {
          "output_type": "stream",
          "name": "stdout",
          "text": [
            "Median: 3\n"
          ]
        }
      ]
    },
    {
      "cell_type": "markdown",
      "source": [
        "**Mode**:\n",
        "\n",
        "The mode is the value that appears most frequently in the dataset. It can be useful for identifying trends in categorical data.\n",
        "\n",
        " **Example**:\n",
        " For the data [1, 2, 3, 3, 4], the mode is 3 because it occurs more often than other numbers."
      ],
      "metadata": {
        "id": "TqU3klIs_gTh"
      }
    },
    {
      "cell_type": "code",
      "source": [
        "data = [1, 2, 3, 3, 4]\n",
        "mode_value = statistics.mode(data)\n",
        "print(f\"Mode: {mode_value}\")\n"
      ],
      "metadata": {
        "colab": {
          "base_uri": "https://localhost:8080/"
        },
        "id": "l3mieD4n_X3B",
        "outputId": "402acb26-b53e-44b0-ec48-691bf819f18d"
      },
      "execution_count": 7,
      "outputs": [
        {
          "output_type": "stream",
          "name": "stdout",
          "text": [
            "Mode: 3\n"
          ]
        }
      ]
    },
    {
      "cell_type": "markdown",
      "source": [
        "**Question 4**:\n",
        "\n",
        "Explain skewness and kurtosis. What does a positive skew imply about the data?\n",
        "\n",
        "**Answer:**\n",
        "\n",
        "**Skewness**:\n",
        "\n",
        "Skewness measures how symmetrical or asymmetric the distribution of data is.\n",
        "\n",
        "\n",
        "**Positive Skew (Right Skew):** The right tail (larger values) is stretched, indicating that most values are on the left side.\n",
        "\n",
        "\n",
        "**Negative Skew (Left Skew)**: The left tail (smaller values) is stretched, indicating that most values are on the right side.\n",
        "\n",
        "\n",
        "**Example**:\n",
        "\n",
        " Imagine you’re studying incomes. Most people might have low to middle-income levels, but a few very wealthy individuals could skew the data to the right.\n"
      ],
      "metadata": {
        "id": "RUUTgWKfCxWr"
      }
    },
    {
      "cell_type": "code",
      "source": [
        "from scipy.stats import skew\n",
        "data = [1, 2, 3, 3, 4]\n",
        "skewness_value = skew(data)\n",
        "print(f\"Skewness: {skewness_value}\")\n"
      ],
      "metadata": {
        "colab": {
          "base_uri": "https://localhost:8080/"
        },
        "id": "8ylRIZYh_mFd",
        "outputId": "cc346d86-72f7-4d2b-9696-f99b1879d802"
      },
      "execution_count": 8,
      "outputs": [
        {
          "output_type": "stream",
          "name": "stdout",
          "text": [
            "Skewness: -0.2715454178836397\n"
          ]
        }
      ]
    },
    {
      "cell_type": "markdown",
      "source": [
        "**Kurtosis**:\n",
        "\n",
        "Kurtosis tells you about the tailedness of your data. A high kurtosis means your data has heavy tails and outliers, while low kurtosis indicates light tails (fewer outliers).\n",
        "\n",
        "\n",
        "**Leptokurtic**: High kurtosis, more outliers.\n",
        "\n",
        "\n",
        "**Platykurtic**: Low kurtosis, fewer outliers.\n",
        "\n",
        "\n"
      ],
      "metadata": {
        "id": "6fEStpjSGoI7"
      }
    },
    {
      "cell_type": "code",
      "source": [
        "from scipy.stats import kurtosis\n",
        "data = [1, 2, 3, 3, 4]\n",
        "kurtosis_value = kurtosis(data)\n",
        "print(f\"Kurtosis: {kurtosis_value}\")\n"
      ],
      "metadata": {
        "colab": {
          "base_uri": "https://localhost:8080/"
        },
        "id": "D7EvUuaPGg2Y",
        "outputId": "8b0cf92b-cad0-4e70-e512-66232d1969df"
      },
      "execution_count": 9,
      "outputs": [
        {
          "output_type": "stream",
          "name": "stdout",
          "text": [
            "Kurtosis: -1.0443786982248529\n"
          ]
        }
      ]
    },
    {
      "cell_type": "markdown",
      "source": [
        "**Question 5:**\n",
        "\n",
        "Implement a Python program to compute the mean, median, and mode of a given list of numbers.\n",
        "\n",
        "numbers = [12, 15, 12, 18, 19, 12, 20, 22, 19, 19, 24, 24, 24, 26, 28]\n"
      ],
      "metadata": {
        "id": "AWvloBK6G4gB"
      }
    },
    {
      "cell_type": "code",
      "source": [
        "import statistics\n",
        "\n",
        "# Given list of numbers\n",
        "numbers = [12, 15, 12, 18, 19, 12, 20, 22, 19, 19, 24, 24, 24, 26, 28]\n",
        "\n",
        "# Calculate mean, median, and mode\n",
        "mean = statistics.mean(numbers)\n",
        "median = statistics.median(numbers)\n",
        "mode = statistics.mode(numbers)\n",
        "\n",
        "# Display the results\n",
        "print(f\"Mean: {mean}\")\n",
        "print(f\"Median: {median}\")\n",
        "print(f\"Mode: {mode}\")\n"
      ],
      "metadata": {
        "colab": {
          "base_uri": "https://localhost:8080/"
        },
        "id": "UluaynhbGutz",
        "outputId": "9a77eda2-6603-4a25-a6d6-8a31a971bf11"
      },
      "execution_count": 10,
      "outputs": [
        {
          "output_type": "stream",
          "name": "stdout",
          "text": [
            "Mean: 19.6\n",
            "Median: 19\n",
            "Mode: 12\n"
          ]
        }
      ]
    },
    {
      "cell_type": "markdown",
      "source": [
        "**Question 6:**\n",
        "\n",
        "Compute the covariance and correlation coefficient between the following two datasets provided as lists in Python:\n",
        "\n",
        "list_x = [10, 20, 30, 40, 50] list_y = [15, 25, 35, 45, 60]\n",
        "\n",
        "\n",
        "**Answer**:\n",
        "\n",
        "**Covariance**:\n",
        "\n",
        "Covariance is a measure of the relationship between two variables. It indicates whether the two variables increase together (positive covariance) or one increases while the other decreases (negative covariance).\n",
        "\n",
        "**Interpretation**:\n",
        "\n",
        "\n",
        "* If covariance > 0, the variables tend to increase together (positive relationship).\n",
        "\n",
        "\n",
        "* If covariance < 0, one variable increases as the other decreases (negative relationship).\n",
        "\n",
        "\n",
        "* If covariance = 0, the variables are independent (no relationship).\n",
        "\n",
        "\n",
        "\n",
        "**Correlation Coefficient**:\n",
        "\n",
        "The correlation coefficient measures the strength and direction of the linear relationship between two variables. Unlike covariance, correlation is standardized and ranges from -1 to +1.\n",
        "\n",
        "\n",
        "* +1 means a perfect positive linear relationship.\n",
        "\n",
        "\n",
        "* -1 means a perfect negative linear relationship.\n",
        "\n",
        "\n",
        "* 0 means no linear relationship.\n",
        "\n",
        "\n",
        "\n",
        "The correlation coefficient normalizes the covariance by the standard deviations, which helps to understand the relationship regardless of the scale of the variables.\n"
      ],
      "metadata": {
        "id": "gkoe7h06HSnJ"
      }
    },
    {
      "cell_type": "code",
      "source": [
        "import numpy as np\n",
        "\n",
        "list_x = [10, 20, 30, 40, 50]\n",
        "list_y = [15, 25, 35, 45, 60]\n",
        "\n",
        "# Covariance matrix\n",
        "cov_matrix = np.cov(list_x, list_y, bias=True)  # bias=True → population covariance\n",
        "cov_xy = cov_matrix[0, 1]\n",
        "\n",
        "# Correlation coefficient\n",
        "corr_xy = np.corrcoef(list_x, list_y)[0, 1]\n",
        "\n",
        "print(\"Covariance:\", cov_xy)\n",
        "print(\"Correlation Coefficient:\", corr_xy)\n"
      ],
      "metadata": {
        "colab": {
          "base_uri": "https://localhost:8080/"
        },
        "id": "yFRlX1rsHK2i",
        "outputId": "aec90777-f5e1-4b6c-c2f1-51712589c351"
      },
      "execution_count": 11,
      "outputs": [
        {
          "output_type": "stream",
          "name": "stdout",
          "text": [
            "Covariance: 220.0\n",
            "Correlation Coefficient: 0.995893206467704\n"
          ]
        }
      ]
    },
    {
      "cell_type": "markdown",
      "source": [
        "**Question 7:**\n",
        "\n",
        "Write a Python script to draw a boxplot for the following numeric list and\n",
        "identify its outliers. Explain the result:\n",
        "\n",
        "data = [12, 14, 14, 15, 18, 19, 19, 21, 22, 22, 23, 23, 24, 26, 29, 35]\n"
      ],
      "metadata": {
        "id": "xmLZc6WJH_vL"
      }
    },
    {
      "cell_type": "code",
      "source": [
        "import numpy as np\n",
        "import matplotlib.pyplot as plt\n",
        "\n",
        "data = [12, 14, 14, 15, 18, 19, 19, 21, 22, 22, 23, 23, 24, 26, 29, 35]\n",
        "\n",
        "# Calculate Q1, Q3, and IQR\n",
        "Q1 = np.percentile(data, 25)\n",
        "Q3 = np.percentile(data, 75)\n",
        "IQR = Q3 - Q1\n",
        "\n",
        "lower_bound = Q1 - 1.5 * IQR\n",
        "upper_bound = Q3 + 1.5 * IQR\n",
        "\n",
        "outliers = [x for x in data if x < lower_bound or x > upper_bound]\n",
        "\n",
        "# Draw boxplot\n",
        "plt.boxplot(data)\n",
        "plt.title(\"Boxplot with Outlier Detection\")\n",
        "plt.show()\n",
        "\n",
        "print(\"Q1:\", Q1, \"Q3:\", Q3, \"IQR:\", IQR)\n",
        "print(\"Lower Bound:\", lower_bound, \"Upper Bound:\", upper_bound)\n",
        "print(\"Outliers:\", outliers)\n"
      ],
      "metadata": {
        "colab": {
          "base_uri": "https://localhost:8080/",
          "height": 504
        },
        "id": "dkrr78M7H5nf",
        "outputId": "7d4f5893-f4e1-4213-cfa8-8c3fa23c919e"
      },
      "execution_count": 12,
      "outputs": [
        {
          "output_type": "display_data",
          "data": {
            "text/plain": [
              "<Figure size 640x480 with 1 Axes>"
            ],
            "image/png": "[encoded data removed]"
          },
          "metadata": {}
        },
        {
          "output_type": "stream",
          "name": "stdout",
          "text": [
            "Q1: 17.25 Q3: 23.25 IQR: 6.0\n",
            "Lower Bound: 8.25 Upper Bound: 32.25\n",
            "Outliers: [35]\n"
          ]
        }
      ]
    },
    {
      "cell_type": "markdown",
      "source": [
        "**Question 8:**\n",
        "\n",
        "You are working as a data analyst in an e-commerce company. The marketing team wants to know if there is a relationship between advertising spend and daily sales.\n",
        "\n",
        "● Explain how you would use covariance and correlation to explore this relationship.\n",
        "\n",
        "● Write Python code to compute the correlation between the two lists:\n",
        "\n",
        "advertising_spend = [200, 250, 300, 400, 500]\n",
        "\n",
        "daily_sales = [2200, 2450, 2750, 3200, 4000]\n"
      ],
      "metadata": {
        "id": "dYrvQuiwIUfJ"
      }
    },
    {
      "cell_type": "markdown",
      "source": [
        "**Step 1:**\n",
        "\n",
        "**Use Covariance**\n",
        "\n",
        "Covariance shows direction of relationship.\n",
        "\n",
        "\n",
        "* If covariance > 0 → as ad spend increases, sales increase.\n",
        "\n",
        "\n",
        "* If covariance < 0 → inverse relationship.\n",
        "\n",
        "\n",
        "Magnitude is not standardized, so it’s not easy to interpret alone.\n",
        "\n",
        "\n",
        "**Step 2:**\n",
        "\n",
        "**Use Correlation**\n",
        "\n",
        "Correlation (Pearson’s r) tells both strength and direction.\n",
        "\n",
        "\n",
        "                             r ∈ [-1, +1]\n",
        "\n",
        "\n",
        "* r ≈ 1 → strong positive\n",
        "\n",
        "\n",
        "* r ≈ -1 → strong negative\n",
        "\n",
        "\n",
        "* r ≈ 0 → no linear relationship\n"
      ],
      "metadata": {
        "id": "_5U5hvSDIgip"
      }
    },
    {
      "cell_type": "code",
      "source": [
        "import numpy as np\n",
        "\n",
        "advertising_spend = [200, 250, 300, 400, 500]\n",
        "daily_sales = [2200, 2450, 2750, 3200, 4000]\n",
        "\n",
        "# Covariance\n",
        "cov_matrix = np.cov(advertising_spend, daily_sales, bias=True)\n",
        "cov_xy = cov_matrix[0, 1]\n",
        "\n",
        "# Correlation\n",
        "corr_xy = np.corrcoef(advertising_spend, daily_sales)[0, 1]\n",
        "\n",
        "print(\"Covariance:\", cov_xy)\n",
        "print(\"Correlation Coefficient:\", corr_xy)\n"
      ],
      "metadata": {
        "colab": {
          "base_uri": "https://localhost:8080/"
        },
        "id": "hlZCGOXbIKNF",
        "outputId": "1adf7899-b206-45bf-ebc8-f0441ce917b0"
      },
      "execution_count": 13,
      "outputs": [
        {
          "output_type": "stream",
          "name": "stdout",
          "text": [
            "Covariance: 67900.0\n",
            "Correlation Coefficient: 0.9935824101653329\n"
          ]
        }
      ]
    },
    {
      "cell_type": "markdown",
      "source": [
        "**Question 9:**\n",
        "\n",
        "Your team has collected customer satisfaction survey data on a scale of\n",
        "1-10 and wants to understand its distribution before launching a new product.\n",
        "\n",
        "● Explain which summary statistics and visualizations (e.g. mean, standard deviation, histogram) you’d use.\n",
        "\n",
        "\n",
        "● Write Python code to create a histogram using Matplotlib for the survey data:\n",
        "\n",
        "\n",
        "survey_scores = [7, 8, 5, 9, 6, 7, 8, 9, 10, 4, 7, 6, 9, 8, 7]\n",
        "\n"
      ],
      "metadata": {
        "id": "v1jb7GQRJOtE"
      }
    },
    {
      "cell_type": "markdown",
      "source": [
        "**Explanation**\n",
        "\n",
        "\n",
        "When analyzing customer satisfaction scores (1–10 scale) before launching a product, we should look at both summary statistics and visualizations.\n",
        "\n",
        "**1. Summary Statistics**\n",
        "\n",
        "**Mean (average):** Shows central tendency (overall satisfaction).\n",
        "\n",
        "\n",
        "**Median**: Helps see the middle value (less affected by extreme values).\n",
        "\n",
        "\n",
        "**Mode**: Most frequent score (common rating).\n",
        "\n",
        "\n",
        "**Standard Deviation (SD):**\n",
        "\n",
        "Tells how spread out the scores are (low SD = customers have similar opinions, high SD = opinions vary a lot).\n",
        "\n",
        "    Minimum & Maximum: Range of responses.\n",
        "\n",
        "\n",
        "**2. Visualizations**\n",
        "\n",
        "\n",
        "**Histogram**: To see the distribution (e.g., are scores skewed toward higher/lower satisfaction?).\n",
        "\n",
        "\n",
        "\n",
        "Boxplot (optional): To check for outliers."
      ],
      "metadata": {
        "id": "PXd7AldrJes3"
      }
    },
    {
      "cell_type": "code",
      "source": [
        "import numpy as np\n",
        "import matplotlib.pyplot as plt\n",
        "\n",
        "survey_scores = [7, 8, 5, 9, 6, 7, 8, 9, 10, 4, 7, 6, 9, 8, 7]\n",
        "\n",
        "# Summary statistics\n",
        "mean_score = np.mean(survey_scores)\n",
        "median_score = np.median(survey_scores)\n",
        "mode_score = max(set(survey_scores), key=survey_scores.count)  # simple mode\n",
        "std_dev = np.std(survey_scores)\n",
        "\n",
        "print(\"Mean:\", mean_score)\n",
        "print(\"Median:\", median_score)\n",
        "print(\"Mode:\", mode_score)\n",
        "print(\"Standard Deviation:\", std_dev)\n",
        "print(\"Min:\", min(survey_scores))\n",
        "print(\"Max:\", max(survey_scores))\n",
        "\n",
        "# Histogram\n",
        "plt.hist(survey_scores, bins=6, edgecolor='black', color='skyblue')\n",
        "plt.title(\"Distribution of Customer Satisfaction Scores\")\n",
        "plt.xlabel(\"Satisfaction Score (1-10)\")\n",
        "plt.ylabel(\"Frequency\")\n",
        "plt.show()\n"
      ],
      "metadata": {
        "colab": {
          "base_uri": "https://localhost:8080/",
          "height": 576
        },
        "id": "kFEtasEcJHJz",
        "outputId": "c3b34565-7004-4fc5-a1c5-c695e03763ab"
      },
      "execution_count": 14,
      "outputs": [
        {
          "output_type": "stream",
          "name": "stdout",
          "text": [
            "Mean: 7.333333333333333\n",
            "Median: 7.0\n",
            "Mode: 7\n",
            "Standard Deviation: 1.577621275493231\n",
            "Min: 4\n",
            "Max: 10\n"
          ]
        },
        {
          "output_type": "display_data",
          "data": {
            "text/plain": [
              "<Figure size 640x480 with 1 Axes>"
            ],
            "image/png": "[encoded data removed]"
          },
          "metadata": {}
        }
      ]
    },
    {
      "cell_type": "code",
      "source": [],
      "metadata": {
        "id": "qz2HqPIYKUq_"
      },
      "execution_count": null,
      "outputs": []
    }
  ]
}