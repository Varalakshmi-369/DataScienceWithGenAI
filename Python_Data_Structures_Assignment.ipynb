{
  "cells": [
    {
      "cell_type": "markdown",
      "metadata": {
        "id": "k88tNwOKq2Ie"
      },
      "source": [
        "# **Data Types and Structures**"
      ]
    },
    {
      "cell_type": "markdown",
      "metadata": {
        "id": "COLY3Ij1rKo0"
      },
      "source": [
        "# Theory Question and Answers"
      ]
    },
    {
      "cell_type": "markdown",
      "metadata": {
        "id": "p5DG7zj1xQWq"
      },
      "source": [
        "**1) What are data structures, and why are they important?**\n",
        "\n",
        "A data structure is a way of organizing and storing data so it can be used efficiently.\n",
        "\n",
        "**Common Data Structures in Python:**\n",
        "\n",
        "1.   String\n",
        "2.   List\n",
        "3.   Touple\n",
        "4.   Set\n",
        "5.   Dictionary\n",
        "\n",
        "**Importance of Data Structures:**\n",
        "\n",
        "* Efficient Data Management\n",
        "\n",
        "They help store and retrieve data quickly and efficiently.\n",
        "\n",
        "* Code Optimization\n",
        "\n",
        "Choosing the right data structure can drastically improve performance.\n",
        "\n",
        "* Problem Solving\n",
        "\n",
        "Algorithms often rely on specific structures (e.g., BFS needs a queue, DFS uses a stack).\n",
        "\n",
        "* Real-world Modeling\n",
        "\n",
        "They help simulate real-world objects like social networks (graphs), browser history (stack), etc."
      ]
    },
    {
      "cell_type": "markdown",
      "metadata": {
        "id": "bnxGkqrkw_Gv"
      },
      "source": [
        "**2) Explain the difference between mutable and immutable data types with examples?**\n",
        "\n",
        "**Mutable:** Objects that can be changed after creation.\n",
        "\n",
        "**Immutable:** Objects that cannot be changed after creation — any change creates a new object.\n",
        "\n",
        "**Examples:**"
      ]
    },
    {
      "cell_type": "code",
      "execution_count": null,
      "metadata": {
        "colab": {
          "base_uri": "https://localhost:8080/"
        },
        "id": "VFHqYkS_vyz6",
        "outputId": "438ef851-8e79-403d-f957-189e1313a1fb"
      },
      "outputs": [
        {
          "name": "stdout",
          "output_type": "stream",
          "text": [
            "139118507083584\n",
            "[1, 2, 3, 4]\n",
            "139118507083584\n"
          ]
        }
      ],
      "source": [
        "# Mutable Example: list\n",
        "my_list = [1, 2, 3]\n",
        "\n",
        "print(id(my_list))       # Example: 140029055424512\n",
        "\n",
        "my_list.append(4)        # Modify the list\n",
        "print(my_list)           # Output: [1, 2, 3, 4]\n",
        "print(id(my_list))       # Same ID → the object was modified"
      ]
    },
    {
      "cell_type": "code",
      "execution_count": null,
      "metadata": {
        "colab": {
          "base_uri": "https://localhost:8080/"
        },
        "id": "2E2yOV2nvfYD",
        "outputId": "0416d042-a683-4c15-e83d-3e112b7bdf66"
      },
      "outputs": [
        {
          "name": "stdout",
          "output_type": "stream",
          "text": [
            "139118761934640\n",
            "hello world\n",
            "139118507046448\n"
          ]
        }
      ],
      "source": [
        "# Immutable Example: str\n",
        "my_str = \"hello\"\n",
        "\n",
        "print(id(my_str)) # Example: 140029055050288\n",
        "\n",
        "my_str += \" world\" # Try to modify the string\n",
        "\n",
        "print(my_str) # Output: \"hello world\"\n",
        "\n",
        "print(id(my_str)) # New ID → new object created"
      ]
    },
    {
      "cell_type": "markdown",
      "metadata": {
        "id": "Tnw_VIQ8wzYM"
      },
      "source": [
        "**3) What are the main differences between lists and tuples in Python?**\n",
        "\n",
        "**Mutability**:\n",
        "\n",
        "Lists are mutable (can be changed).\n",
        "\n",
        "Tuples are immutable (cannot be changed after creation).\n",
        "\n",
        "**Syntax**:\n",
        "\n",
        "Lists use square brackets → [1, 2, 3].\n",
        "\n",
        "Tuples use parentheses → (1, 2, 3).\n",
        "\n",
        "**Methods**:\n",
        "\n",
        "Lists have more built-in methods like append(), remove(), etc.\n",
        "\n",
        "Tuples have fewer methods due to immutability.\n",
        "\n",
        "**Performance**:\n",
        "\n",
        "Tuples are faster than lists in processing.\n",
        "\n",
        "Lists are slightly slower because they allow changes.\n",
        "\n",
        "**Use Cases**:\n",
        "\n",
        "Use lists when data may change (e.g., dynamic collections).\n",
        "\n",
        "Use tuples when data should stay constant (e.g., coordinates, days of week).\n",
        "\n",
        "**Can be dictionary keys**:\n",
        "\n",
        "Tuples can be used as dictionary keys (since they are hashable).\n",
        "\n",
        "Lists cannot be used as keys (not hashable).\n"
      ]
    },
    {
      "cell_type": "markdown",
      "metadata": {
        "id": "iXRvzh2Azh_v"
      },
      "source": [
        "**4) Describe how dictionaries store data?**\n",
        "\n",
        "A dictionary stores data as **key-value** pairs. Each key maps to a value.\n",
        "\n",
        "student = {'name': 'Alice', 'age': 20}\n",
        "\n",
        "here in this\n",
        "\n",
        " 'name','age' are the keys.\n",
        "\n",
        " 'Alice',20 are the respective key values.\n",
        "\n",
        "* **Keys** are unique and must be immutable (like strings, numbers, or tuples).\n",
        "* **Values** can be of any type and can be duplicated.\n",
        "\n",
        "\n",
        "\n"
      ]
    },
    {
      "cell_type": "markdown",
      "metadata": {
        "id": "dKBtvNhF2fGy"
      },
      "source": [
        "**5) Why might you use a set instead of a list in Python**\n",
        "\n",
        "**Unique Elements Only**\n",
        "\n",
        "A set automatically removes duplicates, so it’s useful when you need to store only unique items without extra effort.\n",
        "\n",
        "**Faster Membership Testing**\n",
        "\n",
        "Checking if an item exists in a set is much faster, especially for large data.\n",
        "\n",
        "**Supports Set Operations**\n",
        "Sets allow easy use of mathematical operations like union, intersection, and difference, which compared with lists.\n",
        "\n",
        "**Unordered Collection**\n",
        "Unlike lists, sets don’t preserve order, so if order matters, use a list instead."
      ]
    },
    {
      "cell_type": "markdown",
      "metadata": {
        "id": "R_xxoxxO3WDD"
      },
      "source": [
        "**6) What is a string in Python, and how is it different from a list**\n",
        "\n",
        "A string is a sequence of characters enclosed in quotes, like \"hello\" or 'Python'.\n",
        "\n",
        "Strings are immutable, meaning you cannot change them after creation.\n",
        "\n",
        "You can access characters by index and use slicing, just like lists.\n",
        "\n",
        "**Data Type:**\n",
        "\n",
        "String stores a sequence of characters.\n",
        "\n",
        "List stores a sequence of any data types (numbers, strings, objects, etc.).\n",
        "\n",
        "**Mutability:**\n",
        "\n",
        "Strings are immutable (cannot be changed).\n",
        "\n",
        "Lists are mutable (can be changed, items added/removed).\n",
        "\n",
        "**Methods:**\n",
        "\n",
        "Strings have methods for text manipulation (e.g., .upper(), .split()).\n",
        "\n",
        "Lists have methods for collection manipulation (e.g., .append(), .remove()).\n",
        "\n",
        "**Use Case:**\n",
        "\n",
        "Use strings for text data.\n",
        "\n",
        "Use lists for collections of items."
      ]
    },
    {
      "cell_type": "markdown",
      "metadata": {
        "id": "qjxLRQKW4X-E"
      },
      "source": [
        "**7) How do tuples ensure data integrity in Python**\n",
        "\n",
        "**Immutability:**\n",
        "\n",
        "Tuples are immutable, meaning once created, their contents cannot be changed. This prevents accidental modification of data.\n",
        "\n",
        "**Fixed Structure:**\n",
        "\n",
        "Because tuples cannot be altered, they reliably maintain the exact sequence and values throughout the program.\n",
        "\n",
        "**Safe as Keys:**\n",
        "\n",
        "Tuples can be used as dictionary keys or elements in sets since they are hashable, ensuring stable references.\n",
        "\n",
        "**Protects Critical Data:**\n",
        "\n",
        "Use tuples when you want to protect data that should remain constant, like coordinates, configuration values, or fixed records."
      ]
    },
    {
      "cell_type": "markdown",
      "metadata": {
        "id": "E6egu7nV5Abg"
      },
      "source": [
        "**8) What is a hash table, and how does it relate to dictionaries in Python**\n",
        "\n",
        "\n",
        "\n",
        "A hash table is a data structure that stores key-value pairs.\n",
        "\n",
        "It uses a hash function to convert keys into indexes in an internal array.\n",
        "\n",
        "This allows fast data access — usually in constant time (O(1)) for lookup, insertion, and deletion.\n",
        "\n",
        "**How Does It Relate to Dictionaries in Python?**\n",
        "\n",
        "Python dictionaries are implemented using hash tables internally.\n",
        "\n",
        "When you add a key-value pair, Python:\n",
        "\n",
        "Computes the hash of the key.\n",
        "\n",
        "Finds the index in the hash table.\n",
        "\n",
        "Stores the value at that index.\n",
        "\n",
        "This structure makes dictionary operations (like accessing, adding, or removing items) very fast."
      ]
    },
    {
      "cell_type": "markdown",
      "metadata": {
        "id": "nl4GAOS36B5R"
      },
      "source": [
        "**9) Can lists contain different data types in Python3**\n",
        "\n",
        "**Yes**, Python lists are heterogeneous, meaning they can store multiple types of data in a single list.\n"
      ]
    },
    {
      "cell_type": "code",
      "execution_count": null,
      "metadata": {
        "colab": {
          "base_uri": "https://localhost:8080/"
        },
        "id": "5PHBIlae6ZTj",
        "outputId": "167f87fe-478b-4be5-f962-2e314e3f5351"
      },
      "outputs": [
        {
          "name": "stdout",
          "output_type": "stream",
          "text": [
            "[1, 'hello', 3.14, True, [5, 6]]\n"
          ]
        }
      ],
      "source": [
        "my_list = [1, \"hello\", 3.14, True, [5, 6]]\n",
        "print(my_list)\n",
        "# Output: [1, 'hello', 3.14, True, [5, 6]]\n"
      ]
    },
    {
      "cell_type": "markdown",
      "metadata": {
        "id": "Ijqx_yRk6jF2"
      },
      "source": [
        "**10) Explain why strings are immutable in PythonP**\n",
        "\n",
        "Strings are immutable in Python, meaning their content cannot be changed after creation.\n",
        "\n",
        "**Memory Efficiency**\n",
        "\n",
        "Since strings don’t change, Python can safely reuse them in memory (string interning), saving space.\n",
        "\n",
        "**Hashing Support**\n",
        "\n",
        "Immutable strings can be used as keys in dictionaries or elements in sets because they are hashable.\n",
        "\n",
        "**Data Integrity**\n",
        "\n",
        "Immutability ensures the string's value stays safe from accidental changes, especially when passed to functions.\n",
        "\n",
        "**Thread-Safety**\n",
        "\n",
        "In multi-threaded programs, immutable objects avoid side effects, making code more reliable."
      ]
    },
    {
      "cell_type": "code",
      "execution_count": null,
      "metadata": {
        "id": "jxnOpIo96_N4"
      },
      "outputs": [],
      "source": []
    },
    {
      "cell_type": "markdown",
      "metadata": {
        "id": "1bF7O3oORw91"
      },
      "source": [
        "**11) What advantages do dictionaries offer over lists for certain tasks**\n",
        "\n",
        "Dictionaries offer several advantages over lists in Python, especially when working with key-value pairs or when fast data access is needed.\n",
        "\n",
        "**Fast Data Access:**\n",
        "Dictionaries allow fast lookup of values using keys. Accessing a value in a dictionary is quicker (on average O(1) time) than searching through a list (which takes O(n) time).\n",
        "\n",
        "**Key-Value Pair Storage:**\n",
        "Dictionaries store data in key-value pairs. This makes it easier to organize and retrieve data using meaningful names (keys), instead of relying on positions (indexes) like in lists.\n",
        "No Duplicate Keys:\n",
        "Dictionaries do not allow duplicate keys, which helps in keeping data unique and organized.\n",
        "\n",
        "**Dynamic and Flexible:**\n",
        "You can easily add, update, or delete items using keys without worrying about the position of elements.\n",
        "\n",
        "**Useful for Real-World Tasks:**\n",
        "Dictionaries are better suited for tasks like counting items, storing user information, creating lookup tables, etc."
      ]
    },
    {
      "cell_type": "markdown",
      "metadata": {
        "id": "yVp3E_pHUtzq"
      },
      "source": [
        "**12) Describe a scenario where using a tuple would be preferable over a list**\n",
        "\n",
        "A tuple is preferable over a list when the data should not be changed (i.e., it should be immutable). Tuples are faster and safer for storing fixed data.\n",
        "\n",
        "**Example:**\n",
        "\n",
        "When a function needs to return multiple values, a tuple is a better choice than a list because the returned values are usually meant to be fixed and not changed.\n",
        "\n",
        "**Why tuple is better here:**\n",
        "\n",
        "The returned data is meant to be read-only.\n",
        "\n",
        "Tuples use less memory and are faster than lists.\n",
        "\n",
        "It clearly shows the values are grouped together but not meant to be edited.\n",
        "\n"
      ]
    },
    {
      "cell_type": "code",
      "execution_count": null,
      "metadata": {
        "colab": {
          "base_uri": "https://localhost:8080/"
        },
        "id": "dp02DrM2VZqD",
        "outputId": "f5377f1d-4bc2-4faa-f3fb-e1f3b795ba13"
      },
      "outputs": [
        {
          "name": "stdout",
          "output_type": "stream",
          "text": [
            "('Sara', 22)\n"
          ]
        }
      ],
      "source": [
        "#  scenario where using a tuple would be preferable over a list\n",
        "def get_student():\n",
        "    name = \"Sara\"\n",
        "    age = 22\n",
        "    return (name, age)\n",
        "\n",
        "student_info = get_student()\n",
        "print(student_info)  # Output: ('Sara', 22)"
      ]
    },
    {
      "cell_type": "markdown",
      "metadata": {
        "id": "Dg1_M3KDVhgm"
      },
      "source": [
        "**13) How do sets handle duplicate values in Python**\n",
        "\n",
        "sets automatically remove duplicate values. A set is an unordered collection of unique elements, which means it does not allow duplicates.\n",
        "\n",
        "**In the below example :**\n",
        "\n",
        "Even though 2 and 4 are added twice,\n",
        "\n",
        "The set stores each value only once."
      ]
    },
    {
      "cell_type": "code",
      "execution_count": null,
      "metadata": {
        "colab": {
          "base_uri": "https://localhost:8080/"
        },
        "id": "MtHJRNFjWUvU",
        "outputId": "81f978fb-5648-4244-ce12-fb6a48198c28"
      },
      "outputs": [
        {
          "name": "stdout",
          "output_type": "stream",
          "text": [
            "{1, 2, 3, 4}\n"
          ]
        }
      ],
      "source": [
        "my_set = {1, 2, 2, 3, 4, 4}\n",
        "print(my_set)  # Output: {1, 2, 3, 4}\n"
      ]
    },
    {
      "cell_type": "markdown",
      "metadata": {
        "id": "tKS2okmhWwnl"
      },
      "source": [
        "**14)  How does the “in” keyword work differently for lists and dictionaries**\n",
        "\n",
        "The in keyword is used to check if a value exists. However, it works differently for lists and dictionaries.\n",
        "\n",
        "1. In a List:\n",
        "\n",
        "The in keyword checks if a value is present in the list.\n",
        "2. In a Dictionary:\n",
        "\n",
        "The in keyword checks if a key is present in the dictionary, not the value."
      ]
    },
    {
      "cell_type": "code",
      "execution_count": null,
      "metadata": {
        "colab": {
          "base_uri": "https://localhost:8080/"
        },
        "id": "BkstG4vKWaQD",
        "outputId": "bf773467-957f-4f1d-d769-97e478cac485"
      },
      "outputs": [
        {
          "name": "stdout",
          "output_type": "stream",
          "text": [
            "list:  True\n",
            "Dictionary:  True\n",
            "Dictionary:  False\n"
          ]
        }
      ],
      "source": [
        "# In a List:\n",
        "my_list = [10, 20, 30]\n",
        "print(\"list: \",20 in my_list)  # Output: True -->It checks if 20 is one of the elements in the list.\n",
        "\n",
        "# In a Dictionary:\n",
        "my_dict = {'a': 1, 'b': 2}\n",
        "print(\"Dictionary: \",'a' in my_dict)      # Output: True --> 'a' is a key, so it returns True.\n",
        "print(\"Dictionary: \",1 in my_dict)        # Output: False --> 1 is a value, so it returns False.\n",
        "\n"
      ]
    },
    {
      "cell_type": "markdown",
      "metadata": {
        "id": "dEo_Yry0aeOn"
      },
      "source": [
        "**15) Can you modify the elements of a tuple? Explain why or why not**\n",
        "\n",
        "**No**, you cannot modify the elements of a tuple in Python. This is because tuples are immutable, meaning their values cannot be changed after they are created.\n",
        "\n",
        "**Explanation:**\n",
        "\n",
        "Tuples are created to store fixed data.\n",
        "\n",
        "Once a tuple is defined, you cannot add, remove, or change any of its elements.\n",
        "\n"
      ]
    },
    {
      "cell_type": "code",
      "execution_count": null,
      "metadata": {
        "colab": {
          "base_uri": "https://localhost:8080/",
          "height": 176
        },
        "id": "GkoBmMhwax9W",
        "outputId": "498a6510-2aee-407e-f3c1-1f2e9a92ee35"
      },
      "outputs": [
        {
          "ename": "TypeError",
          "evalue": "'tuple' object does not support item assignment",
          "output_type": "error",
          "traceback": [
            "\u001b[0;31m---------------------------------------------------------------------------\u001b[0m",
            "\u001b[0;31mTypeError\u001b[0m                                 Traceback (most recent call last)",
            "\u001b[0;32m/tmp/ipython-input-1783974245.py\u001b[0m in \u001b[0;36m<cell line: 0>\u001b[0;34m()\u001b[0m\n\u001b[1;32m      1\u001b[0m \u001b[0;31m# Example (will cause error):\u001b[0m\u001b[0;34m\u001b[0m\u001b[0;34m\u001b[0m\u001b[0m\n\u001b[1;32m      2\u001b[0m \u001b[0mmy_tuple\u001b[0m \u001b[0;34m=\u001b[0m \u001b[0;34m(\u001b[0m\u001b[0;36m10\u001b[0m\u001b[0;34m,\u001b[0m \u001b[0;36m20\u001b[0m\u001b[0;34m,\u001b[0m \u001b[0;36m30\u001b[0m\u001b[0;34m)\u001b[0m\u001b[0;34m\u001b[0m\u001b[0;34m\u001b[0m\u001b[0m\n\u001b[0;32m----> 3\u001b[0;31m \u001b[0mmy_tuple\u001b[0m\u001b[0;34m[\u001b[0m\u001b[0;36m1\u001b[0m\u001b[0;34m]\u001b[0m \u001b[0;34m=\u001b[0m \u001b[0;36m50\u001b[0m  \u001b[0;31m# Error: 'tuple' object does not support item assignment\u001b[0m\u001b[0;34m\u001b[0m\u001b[0;34m\u001b[0m\u001b[0m\n\u001b[0m",
            "\u001b[0;31mTypeError\u001b[0m: 'tuple' object does not support item assignment"
          ]
        }
      ],
      "source": [
        "# Example (will cause error):\n",
        "my_tuple = (10, 20, 30)\n",
        "my_tuple[1] = 50  # Error: 'tuple' object does not support item assignment"
      ]
    },
    {
      "cell_type": "markdown",
      "metadata": {
        "id": "_kg7RSmnp568"
      },
      "source": [
        "**16) What is a nested dictionary, and give an example of its use case**\n",
        "\n",
        "A nested dictionary is a dictionary inside another dictionary. It is used to store structured data, like when each key maps to another dictionary instead of a single value.\n",
        "\n",
        "**Use Case:**\n",
        "\n",
        "Nested dictionaries are useful when storing:\n",
        "\n",
        "Student records (with name, age, marks)\n",
        "\n",
        "Employee data (with ID, department, salary)\n",
        "\n",
        "Product information (with price, stock, description)\n",
        "\n",
        "**Example:**\n",
        "\n",
        "Here, In the below example:\n",
        "\n",
        "'101' and '102' are keys for student IDs.\n",
        "\n",
        "Each student ID maps to another dictionary with name and age."
      ]
    },
    {
      "cell_type": "code",
      "execution_count": null,
      "metadata": {
        "colab": {
          "base_uri": "https://localhost:8080/"
        },
        "id": "DVbnD6vnqGEv",
        "outputId": "e89a0853-6b39-4b87-c724-d8c60d46776f"
      },
      "outputs": [
        {
          "name": "stdout",
          "output_type": "stream",
          "text": [
            "Ali\n"
          ]
        }
      ],
      "source": [
        "#  nested dictionary example\n",
        "students = {\n",
        "    '101': {'name': 'Ali', 'age': 20},\n",
        "    '102': {'name': 'Sara', 'age': 21}\n",
        "}\n",
        "\n",
        "print(students['101']['name'])  # Output: Ali\n"
      ]
    },
    {
      "cell_type": "markdown",
      "metadata": {
        "id": "z4UG7w3CruO2"
      },
      "source": [
        "**17) Describe the time complexity of accessing elements in a dictionary**\n",
        "\n",
        "Accessing elements in a dictionary has an average time complexity of O(1), which means it takes constant time regardless of the dictionary size.\n",
        "\n",
        "**Explanation:**\n",
        "\n",
        "Dictionaries use a hash table internally.\n",
        "\n",
        "When you access a value using a key (e.g., my_dict['key']), Python uses the key's hash to directly find the value.\n",
        "\n",
        "**Worst-Case Time Complexity:**\n",
        "\n",
        "In rare cases (like hash collisions), the time complexity can become O(n), but this is very uncommon."
      ]
    },
    {
      "cell_type": "code",
      "execution_count": null,
      "metadata": {
        "colab": {
          "base_uri": "https://localhost:8080/"
        },
        "id": "AKpxznCKsnHO",
        "outputId": "36c5f7a2-b0a2-4f04-dfff-8a54a69d37c6"
      },
      "outputs": [
        {
          "name": "stdout",
          "output_type": "stream",
          "text": [
            "10\n"
          ]
        }
      ],
      "source": [
        "my_dict = {'a': 10, 'b': 20}\n",
        "print(my_dict['a'])  # Output: 10 (done in constant time)\n"
      ]
    },
    {
      "cell_type": "markdown",
      "metadata": {
        "id": "mbDotoF4tbeI"
      },
      "source": [
        "**18)  In what situations are lists preferred over dictionaries**\n",
        "\n",
        "\n",
        "Lists are preferred when:\n",
        "\n",
        "**1) Order Matters:**\n",
        "\n",
        "Lists keep elements in a specific order.\n",
        "\n",
        "Useful when the sequence or position of data is important.\n",
        "\n",
        "**2. Index-Based Access is Needed**\n",
        "\n",
        "Lists use numeric indexes to access elements.\n",
        "\n",
        "Ideal for iterating by position or when working with sequences.\n",
        "\n",
        "**3. Data Doesn't Need a Key**\n",
        "\n",
        "Use lists when you don’t need to label each value with a key.\n",
        "\n",
        "Suitable for simple collections of items like numbers, names, etc.\n",
        "\n",
        "**4. Allowing Duplicate Values**\n",
        "\n",
        "Lists allow duplicates, while dictionaries do not.\n",
        "\n",
        "**5. Simpler and More Lightweight**\n",
        "\n",
        "Lists use less memory than dictionaries when keys are not needed.\n",
        "\n",
        "Easier to use for small or simple datasets.\n",
        "\n"
      ]
    },
    {
      "cell_type": "markdown",
      "metadata": {
        "id": "5b7Eh77Zu3P3"
      },
      "source": [
        "**19) Why are dictionaries considered unordered, and how does that affect data retrieval**\n",
        "\n",
        "Dictionaries were considered unordered because they do not store elements in a fixed sequence based on how they are added\n",
        "\n",
        "**Explanation:**\n",
        "\n",
        "In earlier versions of Python (<3.7), dictionaries did not preserve insertion order.\n",
        "\n",
        "This means when you retrieved or printed items, they might appear in any order, not the order in which you added them.\n",
        "\n",
        "**From Python 3.7 onward:**\n",
        "\n",
        "Dictionaries do preserve insertion order, but they are still considered unordered collections because:\n",
        "\n",
        "The order is not guaranteed to be reliable for all operations.\n",
        "\n",
        "Dictionaries are designed for fast key-based access, not for order.\n",
        "\n",
        "**How This Affects Data Retrieval:**\n",
        "\n",
        "You cannot rely on the position of items (like you can with a list).\n",
        "\n",
        "You must access values using keys, not indexes."
      ]
    },
    {
      "cell_type": "code",
      "execution_count": null,
      "metadata": {
        "colab": {
          "base_uri": "https://localhost:8080/"
        },
        "id": "wPOHYOBrwRkn",
        "outputId": "bdda0f5a-29a0-4bff-e6c7-e6ff37276103"
      },
      "outputs": [
        {
          "name": "stdout",
          "output_type": "stream",
          "text": [
            "Ali\n"
          ]
        }
      ],
      "source": [
        "person = {'name': 'Ali', 'age': 25}\n",
        "print(person['name'])  # Correct\n",
        "# print(person[0])     # Error: KeyError\n"
      ]
    },
    {
      "cell_type": "markdown",
      "metadata": {
        "id": "nxHtljMuDt7L"
      },
      "source": [
        "**20) P Explain the difference between a list and a dictionary in terms of data retrieval**\n",
        "\n",
        "The main difference between a list and a dictionary in terms of data retrieval is how we access the data.\n",
        "\n",
        "**List: Index-Based Retrieval**\n",
        "\n",
        "In a list, elements are accessed using numeric indexes (starting from 0).\n",
        "\n",
        "You retrieve data by position.\n",
        "\n",
        "**Dictionary: Key-Based Retrieval**\n",
        "\n",
        "In a dictionary, elements are accessed using keys, not indexes.\n",
        "\n",
        "Each key maps to a value."
      ]
    },
    {
      "cell_type": "code",
      "execution_count": 16,
      "metadata": {
        "colab": {
          "base_uri": "https://localhost:8080/"
        },
        "id": "N5AJ7aQeEFcW",
        "outputId": "3e6d6af0-0421-4326-d140-19e6bea8e115"
      },
      "outputs": [
        {
          "name": "stdout",
          "output_type": "stream",
          "text": [
            "banana\n",
            "banana\n"
          ]
        }
      ],
      "source": [
        "# data retrieval - list\n",
        "my_list = ['apple', 'banana', 'cherry']\n",
        "print(my_list[1])  # Output: banana\n",
        "\n",
        "# data retrieval - dictionary\n",
        "\n",
        "my_dict = {'fruit1': 'apple', 'fruit2': 'banana'}\n",
        "print(my_dict['fruit2'])  # Output: banana\n",
        "\n"
      ]
    },
    {
      "cell_type": "markdown",
      "metadata": {
        "id": "os711gZWEqRu"
      },
      "source": [
        "# Practical Questions and Answers"
      ]
    },
    {
      "cell_type": "code",
      "execution_count": 19,
      "metadata": {
        "colab": {
          "base_uri": "https://localhost:8080/"
        },
        "id": "jJVTAwipEwDW",
        "outputId": "e707a5e1-d8f6-4336-d10f-2865e5b71b7f"
      },
      "outputs": [
        {
          "name": "stdout",
          "output_type": "stream",
          "text": [
            "Varalakshmi\n"
          ]
        }
      ],
      "source": [
        "# 1. Write a code to create a string with your name and print it\n",
        "name = \"Varalakshmi\"\n",
        "print(name)\n"
      ]
    },
    {
      "cell_type": "code",
      "execution_count": 21,
      "metadata": {
        "colab": {
          "base_uri": "https://localhost:8080/"
        },
        "id": "DU9sOBV0FxSZ",
        "outputId": "1b7027cc-e994-43dd-e28e-4c8403cf393c"
      },
      "outputs": [
        {
          "name": "stdout",
          "output_type": "stream",
          "text": [
            "11\n"
          ]
        }
      ],
      "source": [
        "# 2. Write a code to find the length of the string \"Hello World\"\n",
        "text = \"Hello World\"\n",
        "print(len(text))\n"
      ]
    },
    {
      "cell_type": "code",
      "execution_count": 23,
      "metadata": {
        "colab": {
          "base_uri": "https://localhost:8080/"
        },
        "id": "ecbzFA25F2dZ",
        "outputId": "0df02e43-7bb7-47ba-bcc1-ac5152720923"
      },
      "outputs": [
        {
          "name": "stdout",
          "output_type": "stream",
          "text": [
            "Pyt\n"
          ]
        }
      ],
      "source": [
        "# 3. Write a code to slice the first 3 characters from the string \"Python Programming\"\n",
        "string = \"Python Programming\"\n",
        "print(string[:3])  # Output: Pyt\n"
      ]
    },
    {
      "cell_type": "code",
      "execution_count": 24,
      "metadata": {
        "colab": {
          "base_uri": "https://localhost:8080/"
        },
        "id": "3PHqVtSCF-x7",
        "outputId": "ea29ab71-42a6-48d2-c0a8-9944c06ee6f4"
      },
      "outputs": [
        {
          "name": "stdout",
          "output_type": "stream",
          "text": [
            "HELLO\n"
          ]
        }
      ],
      "source": [
        "# 4. Write a code to convert the string \"hello\" to uppercase\n",
        "word = \"hello\"\n",
        "print(word.upper())  # Output: HELLO\n"
      ]
    },
    {
      "cell_type": "code",
      "execution_count": 25,
      "metadata": {
        "colab": {
          "base_uri": "https://localhost:8080/"
        },
        "id": "YxelrLGAF_hW",
        "outputId": "179d2c04-83da-4841-9fbe-accf0759a7f7"
      },
      "outputs": [
        {
          "name": "stdout",
          "output_type": "stream",
          "text": [
            "I like orange\n"
          ]
        }
      ],
      "source": [
        "# 5. Write a code to replace the word \"apple\" with \"orange\" in the string \"I like apple\"\n",
        "sentence = \"I like apple\"\n",
        "new_sentence = sentence.replace(\"apple\", \"orange\")\n",
        "print(new_sentence)  # Output: I like orange\n"
      ]
    },
    {
      "cell_type": "code",
      "execution_count": 27,
      "metadata": {
        "colab": {
          "base_uri": "https://localhost:8080/"
        },
        "id": "or1L4SCkGDzR",
        "outputId": "2518ee5d-984b-4c56-97f9-1f429e3f38ce"
      },
      "outputs": [
        {
          "name": "stdout",
          "output_type": "stream",
          "text": [
            "[1, 2, 3, 4, 5]\n"
          ]
        }
      ],
      "source": [
        "# 6. Write a code to create a list with numbers 1 to 5 and print it\n",
        "numbers = [1, 2, 3, 4, 5]\n",
        "print(numbers)\n"
      ]
    },
    {
      "cell_type": "code",
      "execution_count": 28,
      "metadata": {
        "colab": {
          "base_uri": "https://localhost:8080/"
        },
        "id": "83a-Vy9pGURT",
        "outputId": "80ba59ba-f6a0-4d64-dc18-71287b2872b9"
      },
      "outputs": [
        {
          "name": "stdout",
          "output_type": "stream",
          "text": [
            "[1, 2, 3, 4, 10]\n"
          ]
        }
      ],
      "source": [
        "# 7. Write a code to append the number 10 to the list [1, 2, 3, 4]\n",
        "my_list = [1, 2, 3, 4]\n",
        "my_list.append(10)\n",
        "print(my_list)  # Output: [1, 2, 3, 4, 10]\n"
      ]
    },
    {
      "cell_type": "code",
      "execution_count": 29,
      "metadata": {
        "colab": {
          "base_uri": "https://localhost:8080/"
        },
        "id": "B0_OlJ_lGVuf",
        "outputId": "d2ec1e90-00bc-44e8-f9d9-2e6584709bfe"
      },
      "outputs": [
        {
          "name": "stdout",
          "output_type": "stream",
          "text": [
            "[1, 2, 4, 5]\n"
          ]
        }
      ],
      "source": [
        "# 8. Write a code to remove the number 3 from the list [1, 2, 3, 4, 5]\n",
        "my_list = [1, 2, 3, 4, 5]\n",
        "my_list.remove(3)\n",
        "print(my_list)  # Output: [1, 2, 4, 5]\n"
      ]
    },
    {
      "cell_type": "code",
      "execution_count": 30,
      "metadata": {
        "colab": {
          "base_uri": "https://localhost:8080/"
        },
        "id": "qq4H08bCGYUc",
        "outputId": "dd109e27-6438-4e6a-972e-98b9345eb43c"
      },
      "outputs": [
        {
          "name": "stdout",
          "output_type": "stream",
          "text": [
            "b\n"
          ]
        }
      ],
      "source": [
        "# 9. Write a code to access the second element in the list ['a', 'b', 'c', 'd']\n",
        "letters = ['a', 'b', 'c', 'd']\n",
        "print(letters[1])  # Output: b\n"
      ]
    },
    {
      "cell_type": "code",
      "execution_count": 31,
      "metadata": {
        "colab": {
          "base_uri": "https://localhost:8080/"
        },
        "id": "Ir847R-lGaZh",
        "outputId": "722d19ef-6d4f-4058-e851-074c2eb6155b"
      },
      "outputs": [
        {
          "name": "stdout",
          "output_type": "stream",
          "text": [
            "[50, 40, 30, 20, 10]\n"
          ]
        }
      ],
      "source": [
        "# 10. Write a code to reverse the list [10, 20, 30, 40, 50]\n",
        "numbers = [10, 20, 30, 40, 50]\n",
        "numbers.reverse()\n",
        "print(numbers)  # Output: [50, 40, 30, 20, 10]\n"
      ]
    },
    {
      "cell_type": "code",
      "execution_count": 32,
      "metadata": {
        "colab": {
          "base_uri": "https://localhost:8080/"
        },
        "id": "S2-cHKI4GdT8",
        "outputId": "d81e7c29-fca7-4087-9422-9c6d98782d68"
      },
      "outputs": [
        {
          "name": "stdout",
          "output_type": "stream",
          "text": [
            "(100, 200, 300)\n"
          ]
        }
      ],
      "source": [
        "# 11. Write a code to create a tuple with the elements 100, 200, 300 and print it\n",
        "my_tuple = (100, 200, 300)\n",
        "print(my_tuple)\n"
      ]
    },
    {
      "cell_type": "code",
      "execution_count": 33,
      "metadata": {
        "colab": {
          "base_uri": "https://localhost:8080/"
        },
        "id": "99BPC_wwGty9",
        "outputId": "b4f56a2e-1962-40a3-e8b9-e7adb57db76e"
      },
      "outputs": [
        {
          "name": "stdout",
          "output_type": "stream",
          "text": [
            "blue\n"
          ]
        }
      ],
      "source": [
        "# 12. Write a code to access the second-to-last element of the tuple ('red', 'green', 'blue', 'yellow')\n",
        "colors = ('red', 'green', 'blue', 'yellow')\n",
        "print(colors[-2])  # Output: blue\n"
      ]
    },
    {
      "cell_type": "code",
      "execution_count": 34,
      "metadata": {
        "colab": {
          "base_uri": "https://localhost:8080/"
        },
        "id": "B4B-Uv4FGvwq",
        "outputId": "037a8b62-fb11-46cb-daa7-46f9d7ec04fa"
      },
      "outputs": [
        {
          "name": "stdout",
          "output_type": "stream",
          "text": [
            "5\n"
          ]
        }
      ],
      "source": [
        "# 13. Write a code to find the minimum number in the tuple (10, 20, 5, 15)\n",
        "numbers = (10, 20, 5, 15)\n",
        "print(min(numbers))  # Output: 5\n"
      ]
    },
    {
      "cell_type": "code",
      "execution_count": 35,
      "metadata": {
        "colab": {
          "base_uri": "https://localhost:8080/"
        },
        "id": "wyrUalaZGx4O",
        "outputId": "4a1046c2-64ca-46d1-f12b-bfca9eb11cc4"
      },
      "outputs": [
        {
          "name": "stdout",
          "output_type": "stream",
          "text": [
            "1\n"
          ]
        }
      ],
      "source": [
        "# 14. Write a code to find the index of the element \"cat\" in the tuple ('dog', 'cat', 'rabbit')\n",
        "animals = ('dog', 'cat', 'rabbit')\n",
        "print(animals.index('cat'))  # Output: 1\n"
      ]
    },
    {
      "cell_type": "code",
      "execution_count": 36,
      "metadata": {
        "colab": {
          "base_uri": "https://localhost:8080/"
        },
        "id": "fqorKDTwG0PA",
        "outputId": "dd182223-4c08-4032-935f-14ea4d09ee17"
      },
      "outputs": [
        {
          "name": "stdout",
          "output_type": "stream",
          "text": [
            "True\n"
          ]
        }
      ],
      "source": [
        "# 15. Write a code to create a tuple containing three different fruits and check if \"kiwi\" is in it\n",
        "fruits = ('apple', 'banana', 'kiwi')\n",
        "print(\"kiwi\" in fruits)  # Output: True\n"
      ]
    },
    {
      "cell_type": "code",
      "execution_count": 37,
      "metadata": {
        "colab": {
          "base_uri": "https://localhost:8080/"
        },
        "id": "A3mrBT0BG2I8",
        "outputId": "5e397a19-0f2b-4790-c230-57a3c67791b9"
      },
      "outputs": [
        {
          "name": "stdout",
          "output_type": "stream",
          "text": [
            "{'a', 'c', 'b'}\n"
          ]
        }
      ],
      "source": [
        "# 16. Write a code to create a set with the elements 'a', 'b', 'c' and print it\n",
        "my_set = {'a', 'b', 'c'}\n",
        "print(my_set)\n"
      ]
    },
    {
      "cell_type": "code",
      "execution_count": 38,
      "metadata": {
        "colab": {
          "base_uri": "https://localhost:8080/"
        },
        "id": "K7JVW9IuG3rd",
        "outputId": "aa66a55f-ec21-4846-c9cb-17779666c381"
      },
      "outputs": [
        {
          "name": "stdout",
          "output_type": "stream",
          "text": [
            "set()\n"
          ]
        }
      ],
      "source": [
        "# 17. Write a code to clear all elements from the set {1, 2, 3, 4, 5}\n",
        "my_set = {1, 2, 3, 4, 5}\n",
        "my_set.clear()\n",
        "print(my_set)  # Output: set()\n"
      ]
    },
    {
      "cell_type": "code",
      "execution_count": 39,
      "metadata": {
        "colab": {
          "base_uri": "https://localhost:8080/"
        },
        "id": "1VCBzit0G5rc",
        "outputId": "575268b5-933e-4b0b-8138-1f58d3f14a37"
      },
      "outputs": [
        {
          "name": "stdout",
          "output_type": "stream",
          "text": [
            "{1, 2, 3}\n"
          ]
        }
      ],
      "source": [
        "# 18. Write a code to remove the element 4 from the set {1, 2, 3, 4}\n",
        "my_set = {1, 2, 3, 4}\n",
        "my_set.remove(4)\n",
        "print(my_set)  # Output: {1, 2, 3}\n"
      ]
    },
    {
      "cell_type": "code",
      "execution_count": 40,
      "metadata": {
        "colab": {
          "base_uri": "https://localhost:8080/"
        },
        "id": "ev8JZlQkG7nn",
        "outputId": "de840db5-3769-4468-bfe7-4c791e529ea8"
      },
      "outputs": [
        {
          "name": "stdout",
          "output_type": "stream",
          "text": [
            "{1, 2, 3, 4, 5}\n"
          ]
        }
      ],
      "source": [
        "# 19. Write a code to find the union of two sets {1, 2, 3} and {3, 4, 5}\n",
        "set1 = {1, 2, 3}\n",
        "set2 = {3, 4, 5}\n",
        "union_set = set1.union(set2)\n",
        "print(union_set)  # Output: {1, 2, 3, 4, 5}\n"
      ]
    },
    {
      "cell_type": "code",
      "execution_count": 41,
      "metadata": {
        "colab": {
          "base_uri": "https://localhost:8080/"
        },
        "id": "0EHo4DlIG9ne",
        "outputId": "9e0af4ff-ed9e-453d-c2c7-d97e9bcfa2b5"
      },
      "outputs": [
        {
          "name": "stdout",
          "output_type": "stream",
          "text": [
            "{2, 3}\n"
          ]
        }
      ],
      "source": [
        "# 20. Write a code to find the intersection of two sets {1, 2, 3} and {2, 3, 4}\n",
        "set1 = {1, 2, 3}\n",
        "set2 = {2, 3, 4}\n",
        "intersection_set = set1.intersection(set2)\n",
        "print(intersection_set)  # Output: {2, 3}\n"
      ]
    },
    {
      "cell_type": "code",
      "execution_count": 42,
      "metadata": {
        "colab": {
          "base_uri": "https://localhost:8080/"
        },
        "id": "zxXu9lULHAMU",
        "outputId": "567df53e-7da0-4d39-bfff-d2d408841652"
      },
      "outputs": [
        {
          "name": "stdout",
          "output_type": "stream",
          "text": [
            "{'name': 'John', 'age': 25, 'city': 'New York'}\n"
          ]
        }
      ],
      "source": [
        "# 21. Write a code to create a dictionary with the keys \"name\", \"age\", and \"city\", and print it\n",
        "person = {\"name\": \"John\", \"age\": 25, \"city\": \"New York\"}\n",
        "print(person)\n"
      ]
    },
    {
      "cell_type": "code",
      "execution_count": 43,
      "metadata": {
        "colab": {
          "base_uri": "https://localhost:8080/"
        },
        "id": "8Iyc4C1IIPuM",
        "outputId": "6b53afd9-6aef-45d5-9076-29984466ec77"
      },
      "outputs": [
        {
          "name": "stdout",
          "output_type": "stream",
          "text": [
            "{'name': 'John', 'age': 25, 'country': 'USA'}\n"
          ]
        }
      ],
      "source": [
        "# 22. Write a code to add a new key-value pair \"country\": \"USA\" to the dictionary {'name': 'John', 'age': 25}\n",
        "person = {'name': 'John', 'age': 25}\n",
        "person['country'] = 'USA'\n",
        "print(person)\n"
      ]
    },
    {
      "cell_type": "code",
      "execution_count": 44,
      "metadata": {
        "colab": {
          "base_uri": "https://localhost:8080/"
        },
        "id": "1ehS6GYwIc_L",
        "outputId": "989f9353-25d4-4835-98a2-289da3e86050"
      },
      "outputs": [
        {
          "name": "stdout",
          "output_type": "stream",
          "text": [
            "Alice\n"
          ]
        }
      ],
      "source": [
        "# 23. Write a code to access the value associated with the key \"name\" in the dictionary {'name': 'Alice', 'age': 30}\n",
        "person = {'name': 'Alice', 'age': 30}\n",
        "print(person['name'])  # Output: Alice\n"
      ]
    },
    {
      "cell_type": "code",
      "execution_count": 45,
      "metadata": {
        "colab": {
          "base_uri": "https://localhost:8080/"
        },
        "id": "9vDzVea9ImIg",
        "outputId": "a41be91b-eddd-4191-87a6-203a7b11db0f"
      },
      "outputs": [
        {
          "name": "stdout",
          "output_type": "stream",
          "text": [
            "{'name': 'Bob', 'city': 'New York'}\n"
          ]
        }
      ],
      "source": [
        "# 24. Write a code to remove the key \"age\" from the dictionary {'name': 'Bob', 'age': 22, 'city': 'New York'}\n",
        "person = {'name': 'Bob', 'age': 22, 'city': 'New York'}\n",
        "person.pop('age')\n",
        "print(person)\n"
      ]
    },
    {
      "cell_type": "code",
      "execution_count": 46,
      "metadata": {
        "colab": {
          "base_uri": "https://localhost:8080/"
        },
        "id": "EVCQgUqEIv7s",
        "outputId": "430ee5cb-4782-46a2-893c-e6af9729fbd9"
      },
      "outputs": [
        {
          "name": "stdout",
          "output_type": "stream",
          "text": [
            "True\n"
          ]
        }
      ],
      "source": [
        "# 25. Write a code to check if the key \"city\" exists in the dictionary {'name': 'Alice', 'city': 'Paris'}\n",
        "person = {'name': 'Alice', 'city': 'Paris'}\n",
        "print('city' in person)  # Output: True\n"
      ]
    },
    {
      "cell_type": "code",
      "execution_count": 47,
      "metadata": {
        "colab": {
          "base_uri": "https://localhost:8080/"
        },
        "id": "vlmoB-GqI2Sf",
        "outputId": "88f0b208-9e50-4f69-80da-9bc8c5f2788d"
      },
      "outputs": [
        {
          "name": "stdout",
          "output_type": "stream",
          "text": [
            "[1, 2, 3]\n",
            "('a', 'b', 'c')\n",
            "{'x': 10, 'y': 20}\n"
          ]
        }
      ],
      "source": [
        "# 26. Write a code to create a list, a tuple, and a dictionary, and print them all\n",
        "my_list = [1, 2, 3]\n",
        "my_tuple = ('a', 'b', 'c')\n",
        "my_dict = {'x': 10, 'y': 20}\n",
        "print(my_list)\n",
        "print(my_tuple)\n",
        "print(my_dict)\n"
      ]
    },
    {
      "cell_type": "code",
      "execution_count": 48,
      "metadata": {
        "colab": {
          "base_uri": "https://localhost:8080/"
        },
        "id": "jGOCXyciI7zb",
        "outputId": "e1639c9c-fb7e-4145-91d6-a10cce0a73e1"
      },
      "outputs": [
        {
          "name": "stdout",
          "output_type": "stream",
          "text": [
            "[20, 35, 69, 72, 94]\n"
          ]
        }
      ],
      "source": [
        "# 27. Write a code to create a list of 5 random numbers between 1 and 100, sort it in ascending order, and print the result\n",
        "import random\n",
        "random_numbers = random.sample(range(1, 101), 5)\n",
        "random_numbers.sort()\n",
        "print(random_numbers)\n"
      ]
    },
    {
      "cell_type": "code",
      "execution_count": 49,
      "metadata": {
        "colab": {
          "base_uri": "https://localhost:8080/"
        },
        "id": "88TayurOJCll",
        "outputId": "39f3fb6e-67cc-41de-c4d5-71b3a2552ff1"
      },
      "outputs": [
        {
          "name": "stdout",
          "output_type": "stream",
          "text": [
            "date\n"
          ]
        }
      ],
      "source": [
        "# 28. Write a code to create a list with strings and print the element at the third index\n",
        "words = ['apple', 'banana', 'cherry', 'date', 'elderberry']\n",
        "print(words[3])  # Output: date\n"
      ]
    },
    {
      "cell_type": "code",
      "execution_count": 50,
      "metadata": {
        "colab": {
          "base_uri": "https://localhost:8080/"
        },
        "id": "VCTiSjRsJKAj",
        "outputId": "71579682-74b9-4c07-f765-537490df9d73"
      },
      "outputs": [
        {
          "name": "stdout",
          "output_type": "stream",
          "text": [
            "{'a': 1, 'b': 2, 'c': 3, 'd': 4}\n"
          ]
        }
      ],
      "source": [
        "# 29. Write a code to combine two dictionaries into one and print the result\n",
        "dict1 = {'a': 1, 'b': 2}\n",
        "dict2 = {'c': 3, 'd': 4}\n",
        "combined_dict = {**dict1, **dict2}\n",
        "print(combined_dict)\n"
      ]
    },
    {
      "cell_type": "code",
      "execution_count": 1,
      "metadata": {
        "colab": {
          "base_uri": "https://localhost:8080/"
        },
        "id": "faKBpbatJSHp",
        "outputId": "2ec21f6b-f5cf-455b-9038-625bc4294358"
      },
      "outputs": [
        {
          "name": "stdout",
          "output_type": "stream",
          "text": [
            "{'apple', 'cherry', 'banana'}\n"
          ]
        }
      ],
      "source": [
        "# 30. Write a code to convert a list of strings into a set\n",
        "string_list = ['apple', 'banana', 'apple', 'cherry']\n",
        "string_set = set(string_list)\n",
        "print(string_set)  # Output: {'apple', 'banana', 'cherry'}\n"
      ]
    },
    {
      "cell_type": "code",
      "execution_count": null,
      "metadata": {
        "id": "RcJF9JpQJXKz"
      },
      "outputs": [],
      "source": []
    }
  ],
  "metadata": {
    "colab": {
      "provenance": []
    },
    "kernelspec": {
      "display_name": "base",
      "language": "python",
      "name": "python3"
    },
    "language_info": {
      "codemirror_mode": {
        "name": "ipython",
        "version": 3
      },
      "file_extension": ".py",
      "mimetype": "text/x-python",
      "name": "python",
      "nbconvert_exporter": "python",
      "pygments_lexer": "ipython3",
      "version": "3.13.5"
    }
  },
  "nbformat": 4,
  "nbformat_minor": 0
}
